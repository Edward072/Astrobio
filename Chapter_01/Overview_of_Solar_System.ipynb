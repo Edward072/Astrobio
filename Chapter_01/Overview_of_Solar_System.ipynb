{
 "cells": [
  {
   "cell_type": "markdown",
   "metadata": {},
   "source": [
    "# Overview of the Solar System"
   ]
  },
  {
   "cell_type": "markdown",
   "metadata": {},
   "source": [
    "\n",
    "## A Brief History of the Planetary Sciences\n",
    "\n",
    "The history of the planetary sciences begins before it even had a name for it.  Ancient civilizations noticed several 'stars' moved quickly in the night sky relative to much more numerous background stars.  The [Greeks](https://en.wikipedia.org/wiki/Ancient_Greek_astronomy) called these objects **πλανήτης** (planētēs; wandering stars), or **planets**.  Ancient civilizations (e.g., Chinese, Persian, [Ancestral Puebloans](https://en.wikipedia.org/wiki/Ancestral_Puebloans), Maya) that developed written language and/or drawings attested to their interest in comets, solar eclipses, and other celestial phenomena.  Some migratory birds (and potentially their ancestors the dinosaurs) use the patterns of stars in the night sky to guide their journeys.\n",
    "\n",
    "The Renaissance and Enlightenment movements in western Europe (i.e., Copernican-Keplerian-Galilean-Netwonian revolution) resulted in a completely different view for the dimensions and dynamics of the Solar System.  Humanity's view of the relative sizes and masses of bodies that consititue the Solar System were drastically altered, including the forces that make them orbit one another.\n",
    "\n",
    "```{figure-md} farside-moon-fig\n",
    "<img src=\"https://svs.gsfc.nasa.gov/vis/a000000/a004100/a004109/luna3_compare.jpg\" alt=\"farside of the moon\"  width=\"600px\">\n",
    "\n",
    "Side by side comparison of the first ever photograph of the lunar far side, from Luna 3, and a visualization of the same view using LRO data. Image credit: [NASA](https://svs.gsfc.nasa.gov/4109)\n",
    "```\n",
    "\n",
    "The age of planetary exploration began in 1959 with the Soviet Union's spacecraft [Luna 3](https://en.wikipedia.org/wiki/Luna_3) (see Fig. {numref}`{number}<farside-moon-fig>`}) returning the first pictures of the farside of the Moon.  During the cold war, spacecraft visisted all eight known terrestial and giant planets in the Solar System.  Through spacecraft, scientists have collected data concerning the planets, their rings, and moons.  This age of planetary exporation produced:\n",
    "\n",
    "- Spacecraft images uncovered details that Earth-based pictures could not resolve.\n",
    "- Spectra from across the electromagnetic spectrum ($\\gamma$-rays to radio) revealed undetected gases and geological features on planets and moons.\n",
    "- Radio detectors and magnetometers showed that other planets possessed aurorae and magnetic fields.\n",
    "- Unexpected types of structure in Saturn's rings, and whole new classes of rings (and ring systems) around all four giant planets.\n",
    "\n",
    "\n",
    "```{figure-md} comet-67p-fig\n",
    "<img src=\"https://solarsystem.nasa.gov/system/content_pages/main_images/1297_ESA_Rosetta_NavCam_20150131_Mosaic.jpg\" alt=\"Comet 67P\"  width=\"600px\">\n",
    "\n",
    "Comet 67P/Churyumov-Gerasimenko on Jan. 31, 2015. Image credit: [ESA/Rosetta/NAVCAM](https://solarsystem.nasa.gov/asteroids-comets-and-meteors/comets/67p-churyumov-gerasimenko/in-depth/)\n",
    "```\n",
    "\n",
    "Both comets and asteroids have now been explored close up by spacecraft (see Fig. {numref}`{number}<comet-67p-fig>`).  Missions have been deployed to study the Sun and its solar wind.  Although the Sun's graviational domain extends beyond the most distant planet (Neptune), the vast outer reigions of the Solar System are still poorly explored.  Many small bodies are expected to be lurking in this great beyond (and some larger ones too like [Planet 9](https://en.wikipedia.org/wiki/Planet_Nine)), but are currently beyond our capacity to detect them.\n",
    "\n",
    "Thousands of planets orbiting other stars (i.e., [exoplanets](https://en.wikipedia.org/wiki/Exoplanet)) have been discovered by NASA's [Kepler Space Telescope](https://en.wikipedia.org/wiki/Kepler_space_telescope) and [Transiting Exoplanet Survey Satellite](https://en.wikipedia.org/wiki/Transiting_Exoplanet_Survey_Satellite) (TESS).  As you may expect, we don't know a lot of detail concerning these exoplanets, but many of the have gross properties (e.g., orbits, masses, radii) that are quite different than any object in the Solar System.  As a result, some of models of planet formation and evolution have been revised.\n",
    "\n",
    "Biologists have redrawn the [tree of life](https://en.wikipedia.org/wiki/Tree_of_life) in the past few decades due to our more nuanced understanding of the relationships between Earth's diverse lifeforms.  Some species have been identified to live and thrive in extreme environments that would deadly for humans.  The regions of the planet where life was considered to exist expanded, which also suggested that extreme conditions on other planets and moons in the Solar System might also be capable of sustaining life.\n",
    "\n",
    "The planetary sciences as a subfield of astronomy has expanded to become even more interdisciplinary, where knowledge of geophysics, atmospheric science, and biology are required to develop a system-wide understanding of a planet.  The properties of planets are key to astrobiology, and understanding the basics of life is useful to planetary scientists.\n",
    "\n",
    "```{figure-md} astrobiology-fig\n",
    "<img src=\"https://astrobiology.nasa.gov/uploads/filer_public_thumbnails/filer_public/31/e2/31e2c74f-2a65-4440-8399-b7c425bb9c93/astrobio_strat_plan_cover-part.jpg__1240x510_q85_crop_subsampling-2.jpg\" alt=\"astrobiology\"  width=\"600px\">\n",
    "\n",
    "Image credit: [NASA](https://astrobiology.nasa.gov/about/astrobiology-strategy/)\n",
    "```"
   ]
  },
  {
   "cell_type": "markdown",
   "metadata": {},
   "source": [
    "## Inventory of the Solar System\n",
    "\n",
    "### Giant Planets\n",
    "\n",
    "### Terrestrial Planets\n",
    "\n",
    "### Minor Planets and Comets\n",
    "\n",
    "### Satellite and Ring Systems\n",
    "\n",
    "### Tabulations\n",
    "\n",
    "### Heliosphere"
   ]
  },
  {
   "cell_type": "markdown",
   "metadata": {},
   "source": [
    "## What is a planet?"
   ]
  },
  {
   "cell_type": "markdown",
   "metadata": {},
   "source": [
    "## Planetary Properties\n",
    "\n",
    "### Mass\n",
    "\n",
    "### Size\n",
    "\n",
    "### Rotation\n",
    "\n",
    "### Shape\n",
    "\n",
    "### Temperature\n",
    "\n",
    "### Magnetic Field\n",
    "\n",
    "### Surface Composition\n",
    "\n",
    "### Surface Structure\n",
    "\n",
    "### Atmosphere\n",
    "\n",
    "### Interior\n"
   ]
  },
  {
   "cell_type": "markdown",
   "metadata": {},
   "source": [
    "## Formation of the Solar System"
   ]
  }
 ],
 "metadata": {
  "interpreter": {
   "hash": "cd2e115bae0bd8507f53973663b16a6c8b1a6736f2a0b1c5bcd962a446a2698e"
  },
  "kernelspec": {
   "display_name": "Python 3.8.8 64-bit ('base': conda)",
   "name": "python3"
  },
  "language_info": {
   "codemirror_mode": {
    "name": "ipython",
    "version": 3
   },
   "file_extension": ".py",
   "mimetype": "text/x-python",
   "name": "python",
   "nbconvert_exporter": "python",
   "pygments_lexer": "ipython3",
   "version": "3.8.8"
  },
  "orig_nbformat": 4
 },
 "nbformat": 4,
 "nbformat_minor": 2
}
