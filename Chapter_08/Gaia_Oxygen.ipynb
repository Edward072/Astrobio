{
 "cells": [
  {
   "cell_type": "markdown",
   "metadata": {},
   "source": [
    "# Gaia & Oxygen\n",
    "\n",
    "## Gaia: An Integrated System\n",
    "\n",
    "### Theoretical Basis\n",
    "\n",
    "### Atmospheric Stability\n",
    "\n",
    "### Biologic Stability: DaisyWorld\n",
    "\n",
    "### Weak Gaia\n",
    "\n",
    "### Strong Gaia\n"
   ]
  },
  {
   "cell_type": "markdown",
   "metadata": {},
   "source": [
    "## The Prebiotic Atmosphere\n",
    "\n",
    "### Oxygen in the Prebiotic Atmosphere\n",
    "\n",
    "### The Escape of Hydrogen to Space\n",
    "\n",
    "### Atmospheric Synthesis\n",
    "\n"
   ]
  },
  {
   "cell_type": "markdown",
   "metadata": {},
   "source": [
    "## The Oxygen Revolution\n",
    "\n",
    "### The Modern Oxygen Cycle\n",
    "\n",
    "### The Balance of Oxygen with Life\n",
    "\n",
    "### Limits on Oxygen Levels on Early Earth\n",
    "\n",
    "### History of the Rise of Oxygen\n",
    "\n",
    "#### Balance between Oxygen Loss and Gain\n",
    "\n",
    "#### Reservoirs of Oxygen\n",
    "\n",
    "### History of Oxygen on Earth\n",
    "\n",
    "### Shield against UV Radiation\n",
    "\n",
    "### Onset of Eukaryotic Life"
   ]
  }
 ],
 "metadata": {
  "kernelspec": {
   "display_name": "Python 3.8.8 ('base')",
   "language": "python",
   "name": "python3"
  },
  "language_info": {
   "codemirror_mode": {
    "name": "ipython",
    "version": 3
   },
   "file_extension": ".py",
   "mimetype": "text/x-python",
   "name": "python",
   "nbconvert_exporter": "python",
   "pygments_lexer": "ipython3",
   "version": "3.8.8"
  },
  "orig_nbformat": 4,
  "vscode": {
   "interpreter": {
    "hash": "be4bb3c2f54353c26a4bcaba16037df563cd9cf9cf84d3cc553cf8d78d2d3996"
   }
  }
 },
 "nbformat": 4,
 "nbformat_minor": 2
}
