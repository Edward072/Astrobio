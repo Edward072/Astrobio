{
 "cells": [
  {
   "cell_type": "markdown",
   "metadata": {},
   "source": [
    "# Planetary Heating and Atmospheres\n",
    "\n",
    "## Solar Heating and Energy Transport\n",
    "\n",
    "### Thermal (Blackbody) Radiation\n",
    "\n",
    "### Albedo\n",
    "\n",
    "### Brightness and Effective Temperatures\n",
    "\n",
    "### Equilibrium Temperature\n"
   ]
  },
  {
   "cell_type": "markdown",
   "metadata": {},
   "source": [
    "## Radiation\n",
    "\n",
    "### Photons and Energy Levels in Atoms\n",
    "\n",
    "### Spectroscopy\n",
    "\n",
    "### Radiative Energy Transport\n",
    "\n",
    "### Radiative Equilibrium\n"
   ]
  },
  {
   "cell_type": "markdown",
   "metadata": {},
   "source": [
    "## Greenhouse Effect\n",
    "\n",
    "### Quantitative Results\n",
    "\n",
    "### Thermal Profile\n",
    "\n",
    "### Greenhouse Effect Derived"
   ]
  },
  {
   "cell_type": "markdown",
   "metadata": {},
   "source": [
    "## Thermal Structure\n",
    "\n",
    "### Sources and Transport of Energy\n",
    "\n",
    "### Observed Thermal Profiles"
   ]
  },
  {
   "cell_type": "markdown",
   "metadata": {},
   "source": [
    "## Atmospheric Composition"
   ]
  },
  {
   "cell_type": "markdown",
   "metadata": {},
   "source": [
    "## Meteorology\n",
    "\n",
    "### Coriolis Effect\n",
    "\n",
    "### Winds Forced by Solar Heating"
   ]
  },
  {
   "cell_type": "markdown",
   "metadata": {},
   "source": [
    "## Atmospheric Escape\n",
    "\n",
    "### Thermal (Jeans) Escape\n",
    "\n",
    "### Nonthermal Escape\n",
    "\n",
    "### Hydrodynamic Escape and Impact Erosion"
   ]
  },
  {
   "cell_type": "markdown",
   "metadata": {},
   "source": [
    "## History of Secondary Atmospheres\n",
    "\n",
    "### Formation\n",
    "\n",
    "### Climate Evolution"
   ]
  }
 ],
 "metadata": {
  "interpreter": {
   "hash": "cd2e115bae0bd8507f53973663b16a6c8b1a6736f2a0b1c5bcd962a446a2698e"
  },
  "kernelspec": {
   "display_name": "Python 3.8.8 64-bit ('base': conda)",
   "name": "python3"
  },
  "language_info": {
   "codemirror_mode": {
    "name": "ipython",
    "version": 3
   },
   "file_extension": ".py",
   "mimetype": "text/x-python",
   "name": "python",
   "nbconvert_exporter": "python",
   "pygments_lexer": "ipython3",
   "version": "3.8.8"
  },
  "orig_nbformat": 4
 },
 "nbformat": 4,
 "nbformat_minor": 2
}
