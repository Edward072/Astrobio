{
 "cells": [
  {
   "cell_type": "markdown",
   "metadata": {},
   "source": [
    "# Life on Mars\n",
    "\n",
    "## Mars and Astrobiology\n",
    "\n",
    "## Mars as a Planet\n",
    "\n",
    "### Requirements for Life to Originate on a Planet\n",
    "\n",
    "## The Potential for Life on Mars\n",
    "\n",
    "### Liquid Water\n",
    "\n",
    "### Climate Change\n",
    "\n",
    "### Biogenic Elements and Energy\n",
    "\n",
    "### Potential for Interplanetary Exchange\n",
    "\n",
    "## The Viking Mission\n",
    "\n",
    "## Claims for Life in the ALH84001 Meteorite\n",
    "\n",
    "## Searching For Life on Mars\n",
    "\n"
   ]
  }
 ],
 "metadata": {
  "interpreter": {
   "hash": "cd2e115bae0bd8507f53973663b16a6c8b1a6736f2a0b1c5bcd962a446a2698e"
  },
  "kernelspec": {
   "display_name": "Python 3.8.8 64-bit ('base': conda)",
   "name": "python3"
  },
  "language_info": {
   "codemirror_mode": {
    "name": "ipython",
    "version": 3
   },
   "file_extension": ".py",
   "mimetype": "text/x-python",
   "name": "python",
   "nbconvert_exporter": "python",
   "pygments_lexer": "ipython3",
   "version": "3.8.8"
  },
  "orig_nbformat": 4
 },
 "nbformat": 4,
 "nbformat_minor": 2
}
