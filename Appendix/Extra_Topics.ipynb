{
 "cells": [
  {
   "cell_type": "markdown",
   "metadata": {},
   "source": [
    "# Extra Topics\n",
    "\n",
    "## Mass Extinctions\n",
    "\n",
    "### Brief History\n",
    "\n",
    "### Studying Mass Extinctions\n",
    "\n",
    "### Earth's Mass Extinctions\n",
    "\n",
    "#### Causes\n",
    "\n",
    "#### Impacts\n",
    "\n",
    "#### Frequency \n",
    "\n",
    "#### Longer-term Effects\n",
    "\n",
    "#### Severity \n",
    "\n",
    "### Extinction Risk through Time\n",
    "\n",
    "### Two Case Histories\n",
    " \n"
   ]
  }
 ],
 "metadata": {
  "kernelspec": {
   "display_name": "Python 3.8.8 ('base')",
   "language": "python",
   "name": "python3"
  },
  "language_info": {
   "codemirror_mode": {
    "name": "ipython",
    "version": 3
   },
   "file_extension": ".py",
   "mimetype": "text/x-python",
   "name": "python",
   "nbconvert_exporter": "python",
   "pygments_lexer": "ipython3",
   "version": "3.8.8"
  },
  "orig_nbformat": 4,
  "vscode": {
   "interpreter": {
    "hash": "be4bb3c2f54353c26a4bcaba16037df563cd9cf9cf84d3cc553cf8d78d2d3996"
   }
  }
 },
 "nbformat": 4,
 "nbformat_minor": 2
}
