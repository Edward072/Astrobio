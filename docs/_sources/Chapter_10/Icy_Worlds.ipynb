{
 "cells": [
  {
   "cell_type": "markdown",
   "metadata": {},
   "source": [
    "# Icy Worlds\n",
    "\n",
    "## Europa\n",
    "\n",
    "### Jupiter and its Satellites\n",
    "\n",
    "### Tidal Evolution, Resonances, and Heating\n",
    "\n",
    "### Europa's Space Environment\n",
    "\n",
    "### Surface Composition\n",
    "\n",
    "### Interior Models \n",
    "\n",
    "### Geology\n",
    "\n",
    "### Heat Transport and Physics of the Ice Shell\n",
    "\n",
    "### Habitability of Europa\n",
    "\n",
    "### An Origin of Life on Europa?\n",
    "\n",
    "### Europa and Astrobiology"
   ]
  },
  {
   "cell_type": "markdown",
   "metadata": {},
   "source": [
    "## Titan\n",
    "\n",
    "### Place in the Solar System\n",
    "\n",
    "### Atmosphere\n",
    "\n",
    "### Hydrocarbon Chemistry and Oceans\n",
    "\n",
    "### Exploration: The Huygens Probe\n",
    "\n",
    "### Results from the Cassini-Huygens Mission\n",
    "\n",
    "### Future Astrobiological Exploration"
   ]
  }
 ],
 "metadata": {
  "interpreter": {
   "hash": "cd2e115bae0bd8507f53973663b16a6c8b1a6736f2a0b1c5bcd962a446a2698e"
  },
  "kernelspec": {
   "display_name": "Python 3.8.8 64-bit ('base': conda)",
   "name": "python3"
  },
  "language_info": {
   "codemirror_mode": {
    "name": "ipython",
    "version": 3
   },
   "file_extension": ".py",
   "mimetype": "text/x-python",
   "name": "python",
   "nbconvert_exporter": "python",
   "pygments_lexer": "ipython3",
   "version": "3.8.8"
  },
  "orig_nbformat": 4
 },
 "nbformat": 4,
 "nbformat_minor": 2
}
