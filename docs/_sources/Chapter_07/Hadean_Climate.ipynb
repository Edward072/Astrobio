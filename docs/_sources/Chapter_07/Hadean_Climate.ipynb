{
 "cells": [
  {
   "cell_type": "markdown",
   "metadata": {},
   "source": [
    "# Hadean Earth & Archean Climate\n",
    "\n",
    "## Hadean Earth\n",
    "\n",
    "### Internal Structure of Earth\n",
    "\n",
    "### Accretion: the building up of planets\n",
    "\n",
    "### Early Differentiation after Accretion\n",
    "\n",
    "### Radioactive Heating\n",
    "\n",
    "### Formation of the Moon\n",
    "\n",
    "### Origin of Earth's Atmosphere, Ocean, and Organic Reservoir"
   ]
  },
  {
   "cell_type": "markdown",
   "metadata": {},
   "source": [
    "## Archean Climate: the Faint Young Sun\n",
    "\n",
    "### The Case for an Equable Climate in the Archean\n",
    "\n",
    "### The Faint Young Sun\n",
    "\n",
    "### The Greenhouse Effect\n",
    "\n",
    "### Primary Greenhouse Gases\n",
    "\n",
    "### Implications for Earth during the Faint Young Sun Era\n",
    "\n",
    "### Paleosols and the Carbon Dioxide Abundance\n",
    "\n",
    "### Carbon Dioxide Cycling and Early Crustal Tectonics\n",
    "\n",
    "#### Negative Feedbacks in the Carbon-Silicate Cycle\n",
    "\n",
    "#### The Carbon-Silicate Cycle during the Archean\n"
   ]
  }
 ],
 "metadata": {
  "interpreter": {
   "hash": "cd2e115bae0bd8507f53973663b16a6c8b1a6736f2a0b1c5bcd962a446a2698e"
  },
  "kernelspec": {
   "display_name": "Python 3.8.8 64-bit ('base': conda)",
   "name": "python3"
  },
  "language_info": {
   "codemirror_mode": {
    "name": "ipython",
    "version": 3
   },
   "file_extension": ".py",
   "mimetype": "text/x-python",
   "name": "python",
   "nbconvert_exporter": "python",
   "pygments_lexer": "ipython3",
   "version": "3.8.8"
  },
  "orig_nbformat": 4
 },
 "nbformat": 4,
 "nbformat_minor": 2
}
