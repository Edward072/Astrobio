{
 "cells": [
  {
   "cell_type": "markdown",
   "metadata": {},
   "source": [
    "# Physics and Astrophysics\n",
    "\n",
    "## Orbital Dynamics\n",
    "\n",
    "### The Two-Body Problem\n",
    "\n",
    "\n",
    "### Kepler's Laws of Planetary Motion\n",
    "\n",
    "\n",
    "### Newton's Laws of Motion and Gravity\n",
    "\n",
    "\n",
    "### Bound and Unbound Orbits"
   ]
  },
  {
   "cell_type": "markdown",
   "metadata": {},
   "source": [
    "## Thermodynamics\n",
    "\n",
    "### Laws of Thermodynamics\n",
    "\n",
    "### Barometric Law and Hydrostatic Equilibrium"
   ]
  },
  {
   "cell_type": "markdown",
   "metadata": {},
   "source": [
    "## Stellar Properties and Lifetimes\n",
    "\n",
    "### Virial Theorem\n",
    "\n",
    "### Luminosity\n",
    "\n",
    "### Stellar Size"
   ]
  },
  {
   "cell_type": "markdown",
   "metadata": {},
   "source": [
    "## Sizes and Densities of Massive Planets\n",
    "\n",
    "## Nucleosynthesis\n",
    "\n",
    "### Primordial Nucleosynthesis\n",
    "\n",
    "### Stellar Nucleosynthesis\n",
    "\n",
    "### Radioactive decay\n"
   ]
  }
 ],
 "metadata": {
  "interpreter": {
   "hash": "cd2e115bae0bd8507f53973663b16a6c8b1a6736f2a0b1c5bcd962a446a2698e"
  },
  "kernelspec": {
   "display_name": "Python 3.8.8 64-bit ('base': conda)",
   "name": "python3"
  },
  "language_info": {
   "codemirror_mode": {
    "name": "ipython",
    "version": 3
   },
   "file_extension": ".py",
   "mimetype": "text/x-python",
   "name": "python",
   "nbconvert_exporter": "python",
   "pygments_lexer": "ipython3",
   "version": "3.8.8"
  },
  "orig_nbformat": 4
 },
 "nbformat": 4,
 "nbformat_minor": 2
}
