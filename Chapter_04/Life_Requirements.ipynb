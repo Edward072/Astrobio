{
 "cells": [
  {
   "cell_type": "markdown",
   "metadata": {},
   "source": [
    "# Life and its Requirements\n",
    "\n",
    "## Does 'Life' Have a Definition?\n"
   ]
  },
  {
   "cell_type": "markdown",
   "metadata": {},
   "source": [
    "\n",
    "### Attempts to Define 'Life'\n",
    "\n",
    "#### Viking's Search for Life on Mars\n",
    "\n",
    "#### The Darwinian Definition\n"
   ]
  },
  {
   "cell_type": "markdown",
   "metadata": {},
   "source": [
    "### Definitions\n",
    "\n",
    "#### Varieties of Definition\n",
    "\n",
    "#### Ideal Definitions\n"
   ]
  },
  {
   "cell_type": "markdown",
   "metadata": {},
   "source": [
    "### Natural Kinds and Theoretical Identity Statements"
   ]
  },
  {
   "cell_type": "markdown",
   "metadata": {},
   "source": [
    "### What is Life?\n",
    "\n",
    "#### Dreams of a General Theory of Life\n",
    "\n",
    "#### How to Search for Extraterrestrial Life"
   ]
  },
  {
   "cell_type": "markdown",
   "metadata": {},
   "source": [
    "## Evolution: a Defining Feature of Life\n",
    "\n",
    "### From Lamarck to Darwin to the Central Dogma\n",
    "\n",
    "### Evolution at the Molecular Level\n",
    "\n",
    "### Mechanisms for Acquiring New Genes\n",
    "\n",
    "### Could There be Life without Evolution?\n",
    "\n",
    "### Evolution and Extraterrestrial Life\n"
   ]
  },
  {
   "cell_type": "markdown",
   "metadata": {},
   "source": [
    "\n",
    "## Planetary Requirements for Life\n",
    "\n",
    "### Biogeochemical Cycles\n",
    "\n",
    "### Gravitational and Magnetic Fields\n",
    "\n",
    "### Can Moonless Planets Host Life?\n",
    "\n",
    "### Giant Planets and Life"
   ]
  },
  {
   "cell_type": "markdown",
   "metadata": {},
   "source": [
    "## How Life Affects Planets"
   ]
  }
 ],
 "metadata": {
  "interpreter": {
   "hash": "cd2e115bae0bd8507f53973663b16a6c8b1a6736f2a0b1c5bcd962a446a2698e"
  },
  "kernelspec": {
   "display_name": "Python 3.8.8 64-bit ('base': conda)",
   "name": "python3"
  },
  "language_info": {
   "codemirror_mode": {
    "name": "ipython",
    "version": 3
   },
   "file_extension": ".py",
   "mimetype": "text/x-python",
   "name": "python",
   "nbconvert_exporter": "python",
   "pygments_lexer": "ipython3",
   "version": "3.8.8"
  },
  "orig_nbformat": 4
 },
 "nbformat": 4,
 "nbformat_minor": 2
}
