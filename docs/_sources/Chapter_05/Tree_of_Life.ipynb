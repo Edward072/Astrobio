{
 "cells": [
  {
   "cell_type": "markdown",
   "metadata": {},
   "source": [
    "# Origins of Life\n",
    "\n",
    "## The Crucial Issues\n",
    "\n",
    "### Why is This Question Important?\n",
    "Our current sample for life in the universe is limited to on or near the surface of our home planet.  Therefore, one of our first questions considers how life first took root here, and whether things that we would consider alive exist elsewhere.  The fossil record on Earth appears to extent to about 3.5 Gyr ago and isotopic evidence suggests the presence of life several hundred million years before that.  However, no hard evidence exists concerning the mechanism by which life first began on Earth.\n",
    "\n",
    "Every human culture has developed an answer to this question and considered its importance in defining our place in the cosmos.  in the absence of firm evidence, the door has been left open to a variety of answers from science, mythology, and religion.  Each of these modes approaches our place in the Universe in a different way and with a different purpose.  These points of view can be broadly separated into three groups: Biblical-Creationist, Improbable Event, and Cosmic Evolution.\n",
    "\n",
    "#### Group I: Biblical-Creationist\n",
    "In the Biblical-Creationist view, life began directly through the actions of a Creator *using supernatural means*.  This view is accepted by a large fraction of our population, although it is not testable and hence, non-scientific.  A modified version of this theory is *Intelligent Design*, which states that life on Earth arose through the actions of an intelligent being and does not identify the creator or specify the means that were used to create life.  This solves the problem of what delivered the initial spark, where there is disagreement concerning how much involvement the intelligent being has with the seeds of life are planted.\n",
    "\n",
    "If we presume that creation is generated supernaturally, then we leave the realm for which science can answer questions and our tools are no longer effective for separating fact from fiction.  [Francis Crick](https://en.wikipedia.org/wiki/Francis_Crick) has suggested that life began on Earth when intelligent beings from a far-off planet delivered it (intentionally or not) by releasing bacteria from a spaceship (i.e., directed panspermia; [Crick & Orgel (1973)](https://www.sciencedirect.com/science/article/pii/0019103573901103?via%3Dihub)).  This explanation is not very satisfying because it merely shifts the problem from the beginnings of life on Earth to the beginnings of life in the Universe, which is a much more untenable issue to investigate.\n",
    "\n",
    "#### Group II: Improbable Event\n",
    "Another point of view is that life began through natural causes, but the events that lead to this process were extremely improbable.  From this premise, it follows that life anywhere (beyond this planet) may be rare and the remainder of the Universe may be barren.  Consider the following:\n",
    "\n",
    "```{epigraph}\n",
    "One has only to contemplate the magnitude of this task to concede that spontaneous generation is impossible, Yet we are here - as a result, I believe, of spontaneous generation.\n",
    "\n",
    "Time is in fact the hero of the plot.  The time with which we have to deal is of the order of two billion years.  Given so much time, the `impossible' becomes possible, the possible probable, and the probable virtually certain.  One has only to wait: time itself performs the miracles.\n",
    "\n",
    "-- George Wald ([1954](https://ui.adsabs.harvard.edu/abs/1954SciAm.191b..44W/abstract))\n",
    "```\n",
    "\n",
    "In our current thinking, the amount of time available is only ${\\sim}500$ Myr rather than 2 Gyr, though the maximum amount of space that can be used for random trials is presumably the same (i.e., the surface of the Earth and the areas that exchange material with it).  Both could be expanded greatly if the possibility of [panspermia](https://en.wikipedia.org/wiki/Panspermia) were taken into account.  Panspermia presumes that life can be spread from world to world by spores (or within meteors) through space.  Much of the Universe and much of the time since creation would then be available for trials on the origin of life.\n",
    "\n",
    "An improbable event requires us to understand a bit about probability itself (i.e., What are the chances?).  Given the age of our Universe and that it's filled with billions upon billions of stars, small improbabilities can multiply.  For example, how long would it take to generate the word \"at\" on my computer keyboard by random strokes?  Assume that I limit my strokes to the fifty keys that produce characters, and I could carry out one trial per second.  My chances would be 1 in 2500 ($50^2 = 50 \\times 50$), which means that I could expect to produce this word within about 45 minutes.\n",
    "\n",
    "Suppose we raise the difficulty level: *What are the chances that I could type this line at random?*  The italicized sentence has 48 characters (ignoring the spaces).  The odds of getting the order completely correct would be 1 in $50^{48}$, about 1 in $4\\times 10^{81}$!  If we consider 6 billion humans performing one trial per second and an Earth-like planet orbited every star within every Galaxy of the Universe ever since the Big Bang, then the odds would still be less than 1 in $10^{30}$.  \n",
    "\n",
    "The incredibly slim chances for success would be masked if one broke up that sentence into small fragments which were considered individually.  The chances for getting the first two characters right in a finite time would seem reasonable.  If we assume (wrongly) that the whole is the sum (rather than the product) of its parts, the entire sequence seems reasonable.  This type of reasoning  underlies much of the approach used for what is called *prebiotic synthesis*.  A number of steps is demonstrated separately in a laboratory, each under conditions that may have prevailed in one location or another on the early Earth.  The products of the reaction ar then termed *prebiotic* a distinction that allows the experimenter to use any of the reactions in a subsequent prebiotic transformation.  Little consideration is given to the adverse probabilities generated by the numerous processes which are implied by the suggested sequence of steps.\n",
    "\n",
    "This inevitably leads to odds that makes the overall process seem near miraculous.  With some good fortune, such an event (i.e., combination of the correct compounds for life) might have occurred within the history of the Universe, and given rise to us.  A consequence of this theory would be that separate origins of life would very rare in the Universe.  Panspermia would still be a possibility, but any life that we encountered elsewhere would then be related to our own.  Astrobiology would represent a simple extension of Earth biology."
   ]
  },
  {
   "cell_type": "markdown",
   "metadata": {},
   "source": [
    "#### Group III: Cosmic Evolution\n",
    "In this viewpoint, life began through the inevitable consequences from the laws of nature.  There exists a principle of self-organization that has guided the development of the Universe from the Big Bang to the present.  Life is common in the Universe.  It will arise whenever a prerequisite set of materials interacts with a suitable energy source.  Life's origin is not liked to the improbable formation of a particular functioning large biomolecule, and it requires a much simpler set of ingredients:\n",
    "\n",
    "- a suitable source of free energy,\n",
    "- a set of chemicals that can utilize energy to increase its own ability to survive, and\n",
    "- an environment that is sufficiently stable so that the evolving system is not disrupted by extreme changes in conditions.\n",
    "\n",
    "This theory encourages the expectation that life is likely to arise on other worlds that have enjoyed Earth-like conditions during some part of their history.  No recipe for a specific set of ingredients for life is offered.  The possibility remains open that alternative lifeforms may rise in environments that are very different than Earth but still meet the necessary requirements for life.  This stance towards the origin of life is the most optimistic for the field of astrobiology, but it remains to be demonstrated that it is correct."
   ]
  },
  {
   "cell_type": "markdown",
   "metadata": {},
   "source": [
    "### Historical Background\n",
    "\n",
    "#### Spontaneous Generation\n",
    "For millennia, the consensus favored *spontaneous generation*, where life may arise quickly by chance from non-living matter and independent of the action of parents.  Aristotle and his followers claimed that fireflies emerged from morning dew from their many observations in which they suddenly appeared.  Many kinds of small animals seemed to arise from the mud at the bottom of ponds and streams.  The 17th century philosopher Ren&eacute; Descartes suggested that the process was driven by heat agitating the subtle and dense particles of putrefying matter.\n",
    "\n",
    "Through careful experimental tests to these speculative ideas, scientists found negative results for a whole array of lower lifeforms.  By the mid-19th century, the spontaneous generation question had contracted to the realm of microorganisms.\n",
    "\n",
    "```{epigraph}\n",
    "The cell theory was modified in the 1860s so that protoplasm came to be considered the structural unit of life.  Moreover, this protoplasm was viewed as an essentially simple substance, theoretically capable of bing produced directly from inorganic matter.  That the simples organism were generally regarded merely as naked lumps of protoplasm added credence to the belief that they, too, could be produced spontaneously.\n",
    "\n",
    "--John Farley ([1977](https://www.google.com/books/edition/The_Spontaneous_Generation_Controversy_f/1uHaAAAAMAAJ?hl=en))\n",
    "```\n",
    "\n",
    "The paradigm collapsed in the late 19th century as a result of the experiments of [Louis Pasteur](https://en.wikipedia.org/wiki/Louis_Pasteur).  Pasteur proclaimed in an 1862 lecture at the Sorbonne, \"never will the doctrine of spontaneous generation recover from the mortal blow of this simple experiment.\"  Pasteur heated and thus sterilized a broth of sugared yeast water, which showed that a solution could be devoid of life and did not spontaneously accumulate microbes until direct contact with the outside air was re-established.\n",
    "\n",
    "Experiments similar to Pasteur's demonstrated that all living things arise today from existing life.  The results were comforting to those with the Biblical-Creationist view, where a Creator was necessary to bring life to the world for the first time.  This included Pasteur himself:\n",
    "\n",
    "```{epigraph}\n",
    "What a victory for materialism if it could be affirmed that it rests on the established fact that matter organizes itself, takes on life itself, matter which has in it already all known forces! ... Of what good would it be then to have recourse to the idea of a primordial creation, before which mystery it is necessary to bow?  What good then would be the idea of a Creator God?\n",
    "\n",
    "--John Farley ([1977](https://www.google.com/books/edition/The_Spontaneous_Generation_Controversy_f/1uHaAAAAMAAJ?hl=en))\n",
    "```\n",
    "\n",
    "A scientific (rather than theologic) view need to push the origin back to an earlier era when conditions on the Earth were very different, and when timespans greater than a few days could be invoked.  It was recognized that the generation of a fully equipped modern functioning cell might not be necessary to get life going.  Some simpler system which utilized only a portion of a cell might suffice."
   ]
  },
  {
   "cell_type": "markdown",
   "metadata": {},
   "source": [
    "#### The Oparin-Haldane Hypothesis\n",
    "This theory proposed separately by [Alexander Oparin](https://en.wikipedia.org/wiki/Alexander_Oparin) and [J.B.S. Haldane](https://en.wikipedia.org/wiki/J._B._S._Haldane) stated that life arose slowly on the early Earth in a \"prebiotic soup\" of chemicals that covered the planet through a series of steps.\n",
    "\n",
    "1. The early Earth had an oxygen-free atmosphere, but contained ammonia, hydrogen gas, water, and methane (i.e., reduced carbon bound to hydrogen).\n",
    "2. This atmosphere was exposed to a variety of energy sources: solar radiation, meteorite and comet infall, volcanic eruptions, lightning, and others, which led to the formation of organic compounds.\n",
    "3. These substances \"must have accumulated until the primitive oceans reached th consistency of hot dilute soup\" as stated by Haldane.  [Harold Urey](https://en.wikipedia.org/wiki/Harold_Urey) suggested that the soup components, \"would remain for long periods of time in the primitive oceans. ... This would provide a very favorable situation for the origin of life.\" \n",
    "4. By unspecified transformations, life developed in this soup.\n",
    "\n",
    "Some elements of the hypothesis were demonstrated in a famous 1953 experiment by Urey and his student [Stanley Miller](https://en.wikipedia.org/wiki/Stanley_Miller).  They set up a flask of boiling water to represent the oceans of the early Earth.  The water vapor passed through a compartment that held two electrodes and supported a spark discharge.  The spark served as an energy source and represented lightning.  After the vapors passed through the spark, they were condensed to water droplets that returned to the original flask.  The entire system was enclosed and filled with a mixture of methane, ammonia, and hydrogen gases to mimic the primitive atmosphere (as it was understood at the time).  The experiment was run for a week, in which all of the methane was consumed. *What was produced in its place?*\n",
    "\n",
    "The results apparently depended upon the arrangement of the compartments and the nature fo the spark.  The most exciting result was to produce a mixture containing amino acids, the building blocks of proteins.  In a modified design, a hydrocarbon layer was formed that was devoid of amino acids.  A later experiment, an intermittent spark was used, but few organic compounds were produced.  Further studies were carried out under the conditions that afforded amino acids.\n",
    "\n",
    "<div align=\"center\">\n",
    "\n",
    "<iframe width=\"560\" height=\"315\"\n",
    "src=\"https://www.youtube.com/embed/NNijmxsKGbc\" \n",
    "frameborder=\"0\" \n",
    "allow=\"accelerometer; autoplay; encrypted-media; gyroscope; picture-in-picture\" \n",
    "allowfullscreen></iframe>\n",
    "\n",
    "</div>\n",
    "\n",
    "The prominent product was a tar-like, insoluble substance that coated the walls of the vessel.  Fifteen percent of the methane had been converted to a mixture of simple organic compounds.  Fourteen of these compounds were present in yields over $0.1\\%$.  All of the compounds were organic acids (i.e., carboxylic acids), which may have been preserved from destruction by their formation of non-volatile ammonium salts.  The salts would have remained in the liquid phase and evaded continuous recycling through the spark.  Two amino acids produced are used in life's proteins, while the remainder are not.\n",
    "\n",
    "The experiment did confirm one tenet of the hypothesis: that an atmosphere of methane, hydrogen, and ammonia, when exposed to certain types of energy, would afford a mixture of organic compounds.  It revealed nothing about the processes that produce a living organism from such a mixture.  As our understanding of the complexity of life has increased, that problem has become more difficult over the next 50+ years."
   ]
  },
  {
   "cell_type": "markdown",
   "metadata": {},
   "source": [
    "#### Even the Simplest Forms of Life are Complex\n",
    "In the mid-19th century, a common scientific idea was that hte building material of life was a pulpy, gel-like, structureless material called [protoplasm](https://en.wikipedia.org/wiki/Protoplasm).  In 1857, [Thomas Huxley](https://en.wikipedia.org/wiki/Thomas_Henry_Huxley) dredged a \"transparent, gelatinous matter\" from the sea bottom and concluded it was protoplasm.  If the construction of life was relatively simple, then it would be not surprising if life could be prepared from simple broths of nutrients.  After 150 years of careful study, a very different picture emerged.  A bacterium is far more complex than the most intricate machine constructed by humans."
   ]
  },
  {
   "cell_type": "markdown",
   "metadata": {},
   "source": [
    "### The Architecture of Life\n",
    "```{figure-md} complexity-life-fig\n",
    "<img src=\"https://openstax.org/apps/archive/20220509.174553/resources/07b21776858173731d2afd4b07d25300ca673a9c\" alt=\"complexity scale\"  width=\"600px\">\n",
    "\n",
    "The complexity of life on a logarithmic scale, where lipids and proteins are ${\\sim}10-100\\times$ larger than an atom.  Most living things are larger than $1\\ {\\rm \\mu m}$.  Image Credit: Openstax:[Biology](https://openstax.org/books/biology-2e/pages/4-2-prokaryotic-cells).\n",
    "```\n",
    "\n",
    "#### Eukaryotic Cells have Complex Internal Structure\n",
    "\n",
    "The complexity of life life is shown over many orders of magnitude in Figure {numref}`{number}<complexity-life-fig>`.  A number of distinct features exist at the human level (e.g., limbs, eyes, nose, etc.), where magnification to the organ or tissue level $(100\\ {\\rm \\mu m}-1\\ {\\rm mm})$ produces some simplification and the cellular level $(10-100\\ {\\rm \\mu m})$ has a wealth of complex structures (e.g., [organelles](https://en.wikipedia.org/wiki/Organelle)).  The [mitochondrion](https://en.wikipedia.org/wiki/Mitochondrion) is an organelle with intricate detail in its construction (see Fig.  {numref}`{number}<mitochondria-fig>`).  At the molecular level, individual proteins emerge and chemical analysis shows that the protein is a chain molecule whose links are amino acids.  A set of twenty related amino acids is used in Earth biology to construct all proteins.  To get a protein with a particular shape and function, it is necessary to connect (encode) the amino acids in a specific order.\n",
    "\n",
    "```{figure-md} mitochondria-fig\n",
    "<img src=\"https://openstax.org/apps/archive/20220509.174553/resources/00abe6130e466e45f70e9e3b98dca42bdcd1409a\" alt=\"mitochondria\"  width=\"600px\">\n",
    "\n",
    "This electron micrograph shows a mitochondrion through an electron microscope. Image Credit: Openstax:[Biology](https://openstax.org/books/biology-2e/pages/4-3-eukaryotic-cells).\n",
    "```\n",
    "\n",
    "#### Bacterial (Prokaryotic) Cells are Simpler\n",
    "\n",
    "For most of Earth's history, single-celled organisms were the *only* form of life.  In seeking an origin for life, the appearance of these forms must be explained.  In a superficial examination, a bacterial cell reveals fewer details than a eukaryotic cell, but a deeper inspection (at higher magnification) reveals many complexities.  Bacterial cells are crafted of large molecules, where many are used in the construction of a eukaryotic cell (e.g., large molecules are proteins and nucleic acids).  \n",
    "\n",
    "```{figure-md} bacterial-fig\n",
    "<img src=\"https://openstax.org/apps/archive/20220509.174553/resources/50163f8ff80f335574f41bfc10cc49a1e87cf9df\" alt=\"bacterial cell\"  width=\"600px\">\n",
    "\n",
    "The features of a typical prokaryotic cell. Flagella, capsules, and pili are not found in all prokaryotes. Image Credit: Openstax:[Biology](https://openstax.org/books/biology-2e/pages/22-2-structure-of-prokaryotes-bacteria-and-archaea).\n",
    "```\n",
    "\n",
    "Individual units called [nucleotides](https://en.wikipedia.org/wiki/Nucleotide) are strung together in a linear array to construct long chains, where each nucleotide consists of a sugar (deoxyribose in DNA and ribose in RNA), a phosphate group, and a base.  Only four different nucleotide units are combined to construct a nucleic acid.  But what nucleic acids lack in variety, they make up for in size.  In the case of DNA (*deoxyribonucleic acid*), several million nucleotides are linked huge circle to form the bacterial chromosome.  RNA (*ribonucleic acid*) does not attain such lengths, but appears in a greater variety of cellular contexts than DNA, and performs many more functions.  Other macromolecules that serve as recognition elements in cellular contacts (signaling), energy storage, and structural materials for the membrane of the cell, which include the\n",
    "\n",
    "- [polysaccharides](https://en.wikipedia.org/wiki/Polysaccharide), \n",
    "- [carbohydrates](https://en.wikipedia.org/wiki/Carbohydrate), and\n",
    "- [lipids](https://en.wikipedia.org/wiki/Lipid).\n",
    "\n",
    "#### Organized at the Molecular Level: Proteins, Nucleic Acids, and Lipids"
   ]
  },
  {
   "cell_type": "markdown",
   "metadata": {},
   "source": [
    "### Central Ideas About the Origin of Life\n",
    "\n",
    "#### Thermodynamics and Probability\n",
    "\n",
    "\n",
    "#### Separate Problems: Origin of Life vs. Origin of Organics"
   ]
  },
  {
   "cell_type": "markdown",
   "metadata": {},
   "source": [
    "#### Possibilities for Reduced Organics"
   ]
  },
  {
   "cell_type": "markdown",
   "metadata": {},
   "source": [
    "### Replicator-first Theories\n",
    "\n",
    "\n",
    "#### Advantages of the Replicator Theory\n",
    "\n",
    "\n",
    "#### Problems and Solutions"
   ]
  },
  {
   "cell_type": "markdown",
   "metadata": {},
   "source": [
    "### Pre-RNA World"
   ]
  },
  {
   "cell_type": "markdown",
   "metadata": {},
   "source": [
    "### Metabolism-first Theories"
   ]
  },
  {
   "cell_type": "markdown",
   "metadata": {},
   "source": [
    "## The Earliest Records of Life on Earth\n",
    "\n",
    "### Problems with the Record\n"
   ]
  },
  {
   "cell_type": "markdown",
   "metadata": {},
   "source": [
    "### Types of Evidence\n",
    "\n",
    "#### Microfossils"
   ]
  },
  {
   "cell_type": "markdown",
   "metadata": {},
   "source": [
    "#### Stromatolites"
   ]
  },
  {
   "cell_type": "markdown",
   "metadata": {},
   "source": [
    "#### Carbon Isotopes"
   ]
  },
  {
   "cell_type": "markdown",
   "metadata": {},
   "source": [
    "#### Sulfur Isotopes"
   ]
  },
  {
   "cell_type": "markdown",
   "metadata": {},
   "source": [
    "#### Nitrogen Isotopes"
   ]
  },
  {
   "cell_type": "markdown",
   "metadata": {},
   "source": [
    "#### Molecular Biomarkers"
   ]
  },
  {
   "cell_type": "markdown",
   "metadata": {},
   "source": [
    "### The Oldest Evidence of Life"
   ]
  },
  {
   "cell_type": "markdown",
   "metadata": {},
   "source": [
    "#### Physical Characteristics\n",
    "\n",
    "#### Environmental Preferences"
   ]
  },
  {
   "cell_type": "markdown",
   "metadata": {},
   "source": [
    "#### Metabolic Activity"
   ]
  },
  {
   "cell_type": "markdown",
   "metadata": {},
   "source": [
    "#### Phylogenetic Relationships\n",
    "\n"
   ]
  },
  {
   "cell_type": "markdown",
   "metadata": {},
   "source": [
    "### Astrobiological Implications"
   ]
  },
  {
   "cell_type": "markdown",
   "metadata": {},
   "source": [
    "## The Origin and Diversification of Eukaryotes\n",
    "\n",
    "### Microbial Diversity"
   ]
  },
  {
   "cell_type": "markdown",
   "metadata": {},
   "source": [
    "### Molecular Phylogeny"
   ]
  },
  {
   "cell_type": "markdown",
   "metadata": {},
   "source": [
    "### Molecular Ecology"
   ]
  },
  {
   "cell_type": "markdown",
   "metadata": {},
   "source": [
    "### Molecular Studies of Protists\n",
    "\n",
    "#### Multi-gene Studies and the Archezoan Hypothesis"
   ]
  },
  {
   "cell_type": "markdown",
   "metadata": {},
   "source": [
    "#### Evolving Ideas about the Origin of Protists"
   ]
  },
  {
   "cell_type": "markdown",
   "metadata": {},
   "source": [
    "#### Sampling Bias and Other Problems"
   ]
  },
  {
   "cell_type": "markdown",
   "metadata": {},
   "source": [
    "## The Phylogentic Tree and LUCA (Lissauer & de Pater 16.9.2)"
   ]
  },
  {
   "cell_type": "markdown",
   "metadata": {},
   "source": [
    "## Young Earth and Early Life (Lissauer & de Pater 16.9.3)"
   ]
  },
  {
   "cell_type": "markdown",
   "metadata": {},
   "source": [
    "## Development of Complex Life (Lissauer & de Pater 16.10.2)"
   ]
  },
  {
   "cell_type": "markdown",
   "metadata": {},
   "source": [
    "## Intelligence and Technology (Lissauer & de Pater 16.10.3)"
   ]
  }
 ],
 "metadata": {
  "interpreter": {
   "hash": "cd2e115bae0bd8507f53973663b16a6c8b1a6736f2a0b1c5bcd962a446a2698e"
  },
  "kernelspec": {
   "display_name": "Python 3.8.8 64-bit ('base': conda)",
   "name": "python3"
  },
  "language_info": {
   "codemirror_mode": {
    "name": "ipython",
    "version": 3
   },
   "file_extension": ".py",
   "mimetype": "text/x-python",
   "name": "python",
   "nbconvert_exporter": "python",
   "pygments_lexer": "ipython3",
   "version": "3.8.8"
  },
  "orig_nbformat": 4
 },
 "nbformat": 4,
 "nbformat_minor": 2
}
