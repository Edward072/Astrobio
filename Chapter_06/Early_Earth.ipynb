{
 "cells": [
  {
   "cell_type": "markdown",
   "metadata": {},
   "source": [
    "# Early Earth\n",
    "\n",
    "## Evolution of Metabolism and Early Microbial Communities\n",
    "The process of metabolism is a hallmark of all living organisms.  *[Catabolic](https://en.wikipedia.org/wiki/Catabolism) reactions generate energy for the organism while [anabolic](https://en.wikipedia.org/wiki/Anabolism) reactions are used for the synthesis of cell material.*  Metabolic pathways in today's living organisms have been evolving for more than $3.5\\ {\\rm Gyr}$.  The evolution of metabolism cannot be separated from the origin life because it was necessary for even the earliest organisms.  Contemporary metabolic pathways are presumed to be much more elaborate and sophisticated that those first evolved.  Metabolism today ranges from\n",
    "\n",
    "- the use of various inorganic chemicals (e.g., hydrogen or sulfur for energy), \n",
    "- several forms of photosynthesis, and\n",
    "- metabolism of hundreds of organic compounds.\n",
    "\n",
    "It is presently impossible for us to know which pathways originated first and how they evolved.  Understanding how metabolism evolved on the early Earth is of considerable importance.  Microorganisms resembling today's Bacteria and Archaea were most likely the first organisms, and the evolution of their metabolism is the most relevant.  Identifying the early evolution of metabolism in these organisms enables us to distinguish specific metabolic types from the later innovations.\n",
    "\n",
    "### The Setting: Conditions on Early Earth\n",
    "On the early Earth, there were *physical* and *chemical* conditions that influenced the evolution of metabolic processes.\n",
    "\n",
    "One factor that influenced physical conditions was instability in the environment (e.g., large changes in available sunlight, water, or temperature).An impact of an asteroid ($R{\\sim}50\\ {\\rm km}$; see Fig. {numref}`{number}<impact-frustration-fig>`) can sterilize all surface life on our planet and evaporate a global ocean that is $3\\ {\\rm km}$ deep.  Only microbial ife at a depth of several ${\\rm km}$ could then survive.  Cosmic events affected early life in major and largely unknown ways that may have lead to the extinction of many species and redirection of the evolution of Earth's biota.  It is possible that catastrophic events during the early history of Earth may have also affected the evolution of metabolism.\n",
    "\n",
    "Chemical conditions on early Earth were marked by a relative dearth (absence) of nutrients that make life so rich today.  A steady supply of certain nutrients was available, which may have influenced the emergence of specific metabolic pathways.  Organic and other volatile materials are synthesized in space and became incorporated into the Earth through impacts by large bodies.  These impacts may have disrupted evolution, but also provided nutrients for life.  In addition, the abiotic synthesis of organic molecules occurred on Earth.  Acetic acid ($\\rm CH_3COOH$) synthesis has been shown to occur under primordial conditions.\n",
    "\n",
    "Although on the early Earth organic materials were less abundant than today, we may reasonably assume that they were present in sufficient quantities and varieties for life to originate and evolve.  Organic materials alone would not likely have been sufficient to sustain life.  Other nutrients were necessary for organisms to utilize electron donors and acceptors to generate metabolic energy needed for life (see Table {numref}`{number}<Nutrient_table>`).  The first metabolisms that arose were carried out *anaerobically* due to the lack of free oxygen.\n",
    "\n",
    "```{list-table} Building blocks of life and replenishable  sources of energy on early Earth.\n",
    ":header-rows: 1\n",
    ":name: Nutrient_table\n",
    "\n",
    "* - Nutrient\n",
    "  - Sources on primitive Earth\n",
    "* - **Fixed Carbon**\n",
    "  - \n",
    "* - Simple amino acids, sugars, other organics\n",
    "  - Meteors and asteroids\n",
    "* - Acetic acid\n",
    "  - Chemosynthesis on Earth\n",
    "* - **Electron donors**\n",
    "  - \n",
    "* - Hydrogen ($\\rm H_2$)\n",
    "  - Volcanic outgassing\n",
    "* - Ferrous Iron ($\\rm Fe^{2+}$)\n",
    "  - Mineral dissolution\n",
    "* - **Electron acceptors**\n",
    "  - \n",
    "* - Carbon dioxide and monoxide ($\\rm CO_2$ and $\\rm CO$)\n",
    "  - Volcanism\n",
    "* - Sulfite ($\\rm SO_3^{-}$)\n",
    "  - Volcanism; hydration of sulfur dioxide ($\\rm SO_2$)\n",
    "* - Elemental sulfur ($\\rm S$)\n",
    "  - Mineral dissolution\n",
    "```\n",
    "### Evidence for the Nature of Early Metabolisms\n",
    "A few categories of more direct evidence can elucidate the nature and timing of early metabolisms.  This evidence comes from three primary sources: **biomarkers**, **the geochemical record**, and **phylogenetic evidence**.\n",
    "\n",
    "Unique biomarkers have been useful for understanding early metabolisms.  Fro example, [hopanoids](https://en.wikipedia.org/wiki/Hopanoids) are found only in cell membranes of the bacterial group *cyanobacteria*, which carryout oxygen-producing photosynthesis.  The presence of hopanoids has been used to date the evolution of these organisms to about ${2.5\\ {\\rm Ga}$.  This date agrees well with the geochemical record for oxygen production on Earth and supports the view that the first oxygenic photosynthetic organisms were cyanobacteria.\n",
    "\n",
    "The geochemical record has been useful in establishing evidence for certain types of metabolic activity.  Strong evidence indicates that carbon dioxide fixation was an early metabolic event on Earth, which is called *primary production*.  This is when environmental ${\\rm CO_2} is taken up and the carbon is incorporated into organic matter.  Carbon dioxide fixing organisms cause isotopic fractionation.  As a result in the Isua deposits in Greenland (that date to $3.5\\ {\\rm Ga}$), deposited organic carbon has a lighter isotopic signature than carbonate.  \n",
    "\n",
    "Although this is excellent evidence that primary production occurred on early Earth, there is no definitive evidence about the nature of the earliest primary producing organisms.  Were they using chemical energy (chemosynthetic) or light energy (photosynthetic), and which organisms were responsible for this process.  the anaerobic methane oxidizing microbes are known to produce the lightest organic carbon, which may explain the existence of lighter organic carbon isotopes in certain layers of the Isua sediments.\n",
    "\n",
    "\n",
    "### Contemporary Metabolisms\n",
    "\n",
    "### Early Metabolic Mechanisms\n",
    "\n",
    "### Evolution of Methanogenesis and Acetogensis\n",
    "\n",
    "### Evolution of Photsynthesis\n",
    "\n",
    "### Aerobic Metabolism\n",
    "\n",
    "### Earth's Earliest Communities\n"
   ]
  },
  {
   "cell_type": "markdown",
   "metadata": {},
   "source": [
    "## Limits of Carbon Life on Earth\n",
    "\n",
    "### Extremophiles and the Limits of Life\n",
    "\n",
    "### Water, Dessication, and Life in Non-aqueous Solvents\n",
    "\n",
    "### Temperature Extremes\n",
    "\n",
    "### Survival While Traveling through Space\n",
    "\n",
    "### Extremophiles, Hyrdothermal Vents, and Earth's Earliest Microbes"
   ]
  },
  {
   "cell_type": "markdown",
   "metadata": {},
   "source": [
    "## The Evolution and Diversification of Life\n",
    "\n",
    "### The Proterozoic\n",
    "\n",
    "### The Phanerozoic"
   ]
  },
  {
   "cell_type": "markdown",
   "metadata": {},
   "source": [
    "## Mass Extinctions\n",
    "\n",
    "### Brief History\n",
    "\n",
    "### Studying Mass Extinctions\n",
    "\n",
    "### Earth's Mass Extinctions\n",
    "\n",
    "#### Causes\n",
    "\n",
    "#### Impacts\n",
    "\n",
    "#### Frequency \n",
    "\n",
    "#### Longer-term Effects\n",
    "\n",
    "#### Severity \n",
    "\n",
    "### Extinction Risk through Time\n",
    "\n",
    "### Two Case Histories"
   ]
  }
 ],
 "metadata": {
  "kernelspec": {
   "display_name": "Python 3.8.8 ('base')",
   "language": "python",
   "name": "python3"
  },
  "language_info": {
   "codemirror_mode": {
    "name": "ipython",
    "version": 3
   },
   "file_extension": ".py",
   "mimetype": "text/x-python",
   "name": "python",
   "nbconvert_exporter": "python",
   "pygments_lexer": "ipython3",
   "version": "3.8.8"
  },
  "orig_nbformat": 4,
  "vscode": {
   "interpreter": {
    "hash": "be4bb3c2f54353c26a4bcaba16037df563cd9cf9cf84d3cc553cf8d78d2d3996"
   }
  }
 },
 "nbformat": 4,
 "nbformat_minor": 2
}
