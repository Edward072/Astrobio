{
 "cells": [
  {
   "cell_type": "markdown",
   "metadata": {},
   "source": [
    "# Student Participation (Fall 2022)\n",
    "Students will work in pairs to produce summaries of each class meeting.  These summaries should list the main topics discussed and emphasized ideas/examples during the respective lecture.  Students are encouraged to be as detailed as possible without being overly verbose.  The summaries should be submitted as a [pull request](https://docs.github.com/en/pull-requests/collaborating-with-pull-requests/proposing-changes-to-your-work-with-pull-requests) before the next class meeting.  **See BlazeView announcement for some simplified instructions.**\n",
    "\n",
    "## Aug 15\n",
    "- Introductions\n",
    "  - Dr. Quarles told us about his research and how it connects to Astrobiology through climate variations.\n",
    "  - He studies how a planet's orbit evolves with two stars, where the changes in the planet's orbit can affect the climate through obliquity variations.  Obliquity is a way of describing a planet's spin axis, where it can precess (like a top) due to the perturbations from the companion star.  This precession can be responsible for large changes in obliquity.  Current models suggest that Mars may have undergone a climate catastrophe in part due to its obliquity variations, while the Earth's climate has been regulated by the Moon.\n",
    "- Syllabus\n",
    "  - The class syllabus provides us with a roadmap for the course.  The course is structured for the students to learn through class participation/activities and homework. Student learning will be assessed through exams, a term paper, and an in-class presentation.\n",
    "- Course website\n",
    "  - Class notes are provided on the course website, which includes web urls (for jargon) and video explanations of some topics.\n",
    "  \n",
    "## Aug 17 (Avery, St. John, & Speldrick)\n",
    "\n",
    "## Aug 22 (Bostic, Soom, & Knox)\n",
    "\n",
    "## Aug 24 (Dubose, Rios, & Freeman)\n"
   ]
  }
 ],
 "metadata": {
  "kernelspec": {
   "display_name": "Python 3.8.8 ('base')",
   "language": "python",
   "name": "python3"
  },
  "language_info": {
   "codemirror_mode": {
    "name": "ipython",
    "version": 3
   },
   "file_extension": ".py",
   "mimetype": "text/x-python",
   "name": "python",
   "nbconvert_exporter": "python",
   "pygments_lexer": "ipython3",
   "version": "3.8.8"
  },
  "orig_nbformat": 4,
  "vscode": {
   "interpreter": {
    "hash": "be4bb3c2f54353c26a4bcaba16037df563cd9cf9cf84d3cc553cf8d78d2d3996"
   }
  }
 },
 "nbformat": 4,
 "nbformat_minor": 2
}
