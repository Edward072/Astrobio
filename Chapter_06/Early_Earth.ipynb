{
 "cells": [
  {
   "cell_type": "markdown",
   "metadata": {},
   "source": [
    "# Early Earth\n",
    "\n",
    "## Evolution of Metabolism and Early Microbial Communities\n",
    "\n",
    "### The Setting: Conditions on Early Earth\n",
    "\n",
    "### Evidence for the Nature of Early Metabolisms\n",
    "\n",
    "### Contemporary Metabolisms\n",
    "\n",
    "### Early Metabolic Mechanisms\n",
    "\n",
    "### Evolution of Methanogenesis and Acetogensis\n",
    "\n",
    "### Evolution of Photsynthesis\n",
    "\n",
    "### Aerobic Metabolism\n",
    "\n",
    "### Earth's Earliest Communities\n"
   ]
  },
  {
   "cell_type": "markdown",
   "metadata": {},
   "source": [
    "## Limits of Carbon Life on Earth\n",
    "\n",
    "### Extremophiles and the Limits of Life\n",
    "\n",
    "### Water, Dessication, and Life in Non-aqueous Solvents\n",
    "\n",
    "### Temperature Extremes\n",
    "\n",
    "### Survival While Traveling through Space\n",
    "\n",
    "### Extremophiles, Hyrdothermal Vents, and Earth's Earliest Microbes"
   ]
  },
  {
   "cell_type": "markdown",
   "metadata": {},
   "source": [
    "## The Evolution and Diversification of Life\n",
    "\n",
    "### The Proterozoic\n",
    "\n",
    "### The Phanerozoic"
   ]
  },
  {
   "cell_type": "markdown",
   "metadata": {},
   "source": [
    "## Mass Extinctions\n",
    "\n",
    "### Brief History\n",
    "\n",
    "### Studying Mass Extinctions\n",
    "\n",
    "### Earth's Mass Extinctions\n",
    "\n",
    "#### Causes\n",
    "\n",
    "#### Impacts\n",
    "\n",
    "#### Frequency \n",
    "\n",
    "#### Longer-term Effects\n",
    "\n",
    "#### Severity \n",
    "\n",
    "### Extinction Risk through Time\n",
    "\n",
    "### Two Case Histories"
   ]
  }
 ],
 "metadata": {
  "interpreter": {
   "hash": "cd2e115bae0bd8507f53973663b16a6c8b1a6736f2a0b1c5bcd962a446a2698e"
  },
  "kernelspec": {
   "display_name": "Python 3.8.8 64-bit ('base': conda)",
   "name": "python3"
  },
  "language_info": {
   "codemirror_mode": {
    "name": "ipython",
    "version": 3
   },
   "file_extension": ".py",
   "mimetype": "text/x-python",
   "name": "python",
   "nbconvert_exporter": "python",
   "pygments_lexer": "ipython3",
   "version": "3.8.8"
  },
  "orig_nbformat": 4
 },
 "nbformat": 4,
 "nbformat_minor": 2
}
