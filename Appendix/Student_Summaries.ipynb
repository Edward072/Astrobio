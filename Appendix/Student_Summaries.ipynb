{
 "cells": [
  {
   "cell_type": "markdown",
   "metadata": {},
   "source": [
    "# Student Participation (Fall 2022)\n",
    "Students will work in pairs to produce summaries of each class meeting.  These summaries should list the main topics discussed and emphasized ideas/examples during the respective lecture.  Students are encouraged to be as detailed as possible without being overly verbose.  The summaries should be submitted as a [pull request](https://docs.github.com/en/pull-requests/collaborating-with-pull-requests/proposing-changes-to-your-work-with-pull-requests) before the next class meeting.  **See BlazeView announcement for some simplified instructions.**\n",
    "\n",
    "## Aug 15\n",
    "- Introductions\n",
    "  - Dr. Quarles told us about his research and how it connects to Astrobiology through climate variations.\n",
    "  - He studies how a planet's orbit evolves with two stars, where the changes in the planet's orbit can affect the climate through obliquity variations.  Obliquity is a way of describing a planet's spin axis, where it can precess (like a top) due to the perturbations from the companion star.  This precession can be responsible for large changes in obliquity.  Current models suggest that Mars may have undergone a climate catastrophe in part due to its obliquity variations, while the Earth's climate has been regulated by the Moon.\n",
    "- Syllabus\n",
    "  - The class syllabus provides us with a roadmap for the course.  The course is structured for the students to learn through class participation/activities and homework. Student learning will be assessed through exams, a term paper, and an in-class presentation.\n",
    "- Course website\n",
    "  - Class notes are provided on the course website, which includes web urls (for jargon) and video explanations of some topics.\n",
    "  \n",
    "## Aug 17 (Avery, St. John, & Speldrick)\n",
    "\n",
    "## Aug 22 (Bostic, Soom, & Knox)\n",
    "\n",
    "## Aug 24 (Dubose, Rios, & Freeman)\n",
    "\n",
    "- **Orbital Dynamics** – study of planetary bodies.\n",
    "\n",
    "- **Gravitational interactions** determine how a planet’s distance from the Sun varies over time and thus how much solar radiation the planet receives. \n",
    "\n",
    "- **Rotation rates** determine the length of the day. \n",
    "\n",
    "- **Obliquity** influences the temperature differences between the pole and equator, as well as seasonal variations. \n",
    "\n",
    "- **Tidal heating** (from tidal distortions) produces extensive volcanism on bodies such as Jupiter’s moon Io. \n",
    "\n",
    "- The study of planetary motions goes back to old age through observational studies and kinematic modeling. It begins with Tycho Brache and Johannes Kepler. \n",
    "\n",
    "- Newton showed that the motion of two bodies, resulting from their mutual attraction is described by two conic sections: ellipses for bound orbits and parabolas and hyperbolas for unbound trajectories. \n",
    "\n",
    "- **The first law of Kepler’s** planetary motion: All planets move along elliptical paths with the Sun at one focus. \n",
    "\n",
    "- **The second law of Kepler’s** planetary motion: A line connecting any given planet and the Sun sweeps out an area [Equation] at a constant rate. \n",
    "\n",
    "- **The third law** of planetary motion: The square of a planet’s orbital period [Equation] about the Sun (in years) is equal to the cube of its semimajor axis [Equation] (In AU).\n",
    "\n",
    "- **Newton’s first law of motion and gravity**: A body remains at rest or in uniform motion unless a force is exerted upon it. It is also called the law of inertia and is a restatement of Galileo Galilei’s work from the first half of 17th century \n",
    "\n",
    "- **Newton’s second law of motion and gravity**: When a body is acted upon by a force, the time rate of change of its momentum equals the force. \n",
    "\n",
    "- **Newton’s third law of motion and gravity**: If a body [Equation] that exerts a force on another body [Equation], there is a force of equal magnitude and opposite direction exerted by body [Equation] onto body [Equation]. \n",
    "\n",
    "- **Newton’s universal law of gravity**: Everybody in the universe exerts an attractive force on every other body that is directly proportional to the product of their masses and the inverse square of the distance between them. \n",
    "\n",
    "- For bodies to be able to travel in a circular orbit about their center of mass, they must be pulled towards one another enough to balance inertia. \n",
    "\n",
    "**2.2 Connections Between Physics, Astrophysics, and Planetary Science**\n",
    "- A planet is composed of 10^50 molecules, so large that is impossible to model planets on a molecule-by-molecule bases.\n",
    "- The radial structure of planets and stars is determined by a balance of the inward gravitational force and the resistance to collapse provided by a pressure gradient.\n",
    "- Sun is the dominant body in our solar system. Without the Sun, there would not be life in Earth's surface.\n",
    "- The properties of a planetary system depend on the composition of individual bodies.\n",
    "\n",
    "**2.3 Thermodynamics**\n",
    "- Analysis of difference systems of matter.\n",
    "- When the latent heat of transformation is absorbed, can be induced by melting, boiling, sublimation, or condensation.\n",
    "\n",
    "**2.3.1 Laws of Thermodynamics**\n",
    "- Closed systems: mass transfer to and from the external environment are not permitted.\n",
    "- Open systems: allows mass and energy to freely flow between the system and its enviroment.\n",
    "- Closed systems are in equilibrium, where this is known as the zeroth law of **thermodynamics**. \n",
    "- The **thermodynamic state** of a system refers to the system's physical properties(density, pressure, and tempertature.)\n",
    "\n",
    "**2.3.2 Barometric Law and Hydrostatic Equilibrium**\n",
    "- The large-scale structure of a planetary body or star is governed by a balance between gravity and pressure= hydrostatic equilibrium.\n",
    "- An equation of state (EOS) describes the relationship between two or more state variables (e.g., pressure, density, and temperature of a substance).\n",
    "- If the body is highly compressible the body may be centrally condensed.\n",
    "- The Earth is differentiated (i.e., not homogeneous), and the increase in density towards the center compensates for our overestimate in gravity. "
   ]
  },
  {
   "cell_type": "markdown",
   "metadata": {},
   "source": []
  }
 ],
 "metadata": {
  "kernelspec": {
   "display_name": "Python 3.8.8 ('base')",
   "language": "python",
   "name": "python3"
  },
  "language_info": {
   "codemirror_mode": {
    "name": "ipython",
    "version": 3
   },
   "file_extension": ".py",
   "mimetype": "text/x-python",
   "name": "python",
   "nbconvert_exporter": "python",
   "pygments_lexer": "ipython3",
   "version": "3.8.8"
  },
  "orig_nbformat": 4,
  "vscode": {
   "interpreter": {
    "hash": "be4bb3c2f54353c26a4bcaba16037df563cd9cf9cf84d3cc553cf8d78d2d3996"
   }
  }
 },
 "nbformat": 4,
 "nbformat_minor": 2
}
