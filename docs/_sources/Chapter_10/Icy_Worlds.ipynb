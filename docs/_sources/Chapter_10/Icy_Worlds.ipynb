{
 "cells": [
  {
   "cell_type": "markdown",
   "metadata": {},
   "source": [
    "# Icy Worlds\n",
    "\n",
    "## Europa\n",
    "\n",
    "### Jupiter and its Satellites\n",
    "\n",
    "### Tidal Evolution, Resonances, and Heating\n",
    "\n",
    "### Europa's Space Environment\n",
    "\n",
    "### Surface Composition\n",
    "\n",
    "### Interior Models \n",
    "\n",
    "### Geology\n",
    "\n",
    "### Heat Transport and Physics of the Ice Shell\n",
    "\n",
    "### Habitability of Europa\n",
    "\n",
    "### An Origin of Life on Europa?\n",
    "\n",
    "### Europa and Astrobiology"
   ]
  },
  {
   "cell_type": "markdown",
   "metadata": {},
   "source": [
    "## Titan\n",
    "\n",
    "### Place in the Solar System\n",
    "\n",
    "### Atmosphere\n",
    "\n",
    "### Hydrocarbon Chemistry and Oceans\n",
    "\n",
    "### Exploration: The Huygens Probe\n",
    "\n",
    "### Results from the Cassini-Huygens Mission\n",
    "\n",
    "### Future Astrobiological Exploration"
   ]
  }
 ],
 "metadata": {
  "kernelspec": {
   "display_name": "Python 3.8.8 ('base')",
   "language": "python",
   "name": "python3"
  },
  "language_info": {
   "codemirror_mode": {
    "name": "ipython",
    "version": 3
   },
   "file_extension": ".py",
   "mimetype": "text/x-python",
   "name": "python",
   "nbconvert_exporter": "python",
   "pygments_lexer": "ipython3",
   "version": "3.8.8"
  },
  "orig_nbformat": 4,
  "vscode": {
   "interpreter": {
    "hash": "be4bb3c2f54353c26a4bcaba16037df563cd9cf9cf84d3cc553cf8d78d2d3996"
   }
  }
 },
 "nbformat": 4,
 "nbformat_minor": 2
}
