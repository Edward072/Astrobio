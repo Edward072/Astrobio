{
 "cells": [
  {
   "cell_type": "markdown",
   "metadata": {},
   "source": [
    "# Gaia & Oxygen\n",
    "\n",
    "## Gaia: An Integrated System\n",
    "\n",
    "### Theoretical Basis\n",
    "\n",
    "### Atmospheric Stability\n",
    "\n",
    "### Biologic Stability: DaisyWorld\n",
    "\n",
    "### Weak Gaia\n",
    "\n",
    "### Strong Gaia\n"
   ]
  },
  {
   "cell_type": "markdown",
   "metadata": {},
   "source": [
    "## The Prebiotic Atmosphere\n",
    "\n",
    "### Oxygen in the Prebiotic Atmosphere\n",
    "\n",
    "### The Escape of Hydrogen to Space\n",
    "\n",
    "### Atmospheric Synthesis\n",
    "\n"
   ]
  },
  {
   "cell_type": "markdown",
   "metadata": {},
   "source": [
    "## The Oxygen Revolution\n",
    "\n",
    "### The Modern Oxygen Cycle\n",
    "\n",
    "### The Balance of Oxygen with Life\n",
    "\n",
    "### Limits on Oxygen Levels on Early Earth\n",
    "\n",
    "### History of the Rise of Oxygen\n",
    "\n",
    "#### Balance between Oxygen Loss and Gain\n",
    "\n",
    "#### Reservoirs of Oxygen\n",
    "\n",
    "### History of Oxygen on Earth\n",
    "\n",
    "### Shield against UV Radiation\n",
    "\n",
    "### Onset of Eukaryotic Life"
   ]
  }
 ],
 "metadata": {
  "interpreter": {
   "hash": "cd2e115bae0bd8507f53973663b16a6c8b1a6736f2a0b1c5bcd962a446a2698e"
  },
  "kernelspec": {
   "display_name": "Python 3.8.8 64-bit ('base': conda)",
   "name": "python3"
  },
  "language_info": {
   "codemirror_mode": {
    "name": "ipython",
    "version": 3
   },
   "file_extension": ".py",
   "mimetype": "text/x-python",
   "name": "python",
   "nbconvert_exporter": "python",
   "pygments_lexer": "ipython3",
   "version": "3.8.8"
  },
  "orig_nbformat": 4
 },
 "nbformat": 4,
 "nbformat_minor": 2
}
