{
 "cells": [
  {
   "cell_type": "markdown",
   "metadata": {},
   "source": [
    "# Origins of Life\n",
    "\n",
    "## The Crucial Issues\n",
    "\n",
    "### Why is This Question Important?\n",
    "Our current sample for life in the universe is limited to on or near the surface of our home planet.  Therefore, one of our first questions considers how life first took root here, and whether things that we would consider alive exist elsewhere.  The fossil record on Earth appears to extent to about 3.5 Gyr ago and isotopic evidence suggests the presence of life several hundred million years before that.  However, no hard evidence exists concerning the mechanism by which life first began on Earth.\n",
    "\n",
    "Every human culture has developed an answer to this question and considered its importance in defining our place in the cosmos.  in the absence of firm evidence, the door has been left open to a variety of answers from science, mythology, and religion.  Each of these modes approaches our place in the Universe in a different way and with a different purpose.  These points of view can be broadly separated into three groups: Biblical-Creationist, Improbable Event, and Cosmic Evolution.\n",
    "\n",
    "#### Group I: Biblical-Creationist\n",
    "In the Biblical-Creationist view, life began directly through the actions of a Creator *using supernatural means*.  This view is accepted by a large fraction of our population, although it is not testable and hence, non-scientific.  A modified version of this theory is *Intelligent Design*, which states that life on Earth arose through the actions of an intelligent being and does not identify the creator or specify the means that were used to create life.  This solves the problem of what delivered the initial spark, where there is disagreement concerning how much involvement the intelligent being has with the seeds of life are planted.\n",
    "\n",
    "If we presume that creation is generated supernaturally, then we leave the realm for which science can answer questions and our tools are no longer effective for separating fact from fiction.  [Francis Crick](https://en.wikipedia.org/wiki/Francis_Crick) has suggested that life began on Earth when intelligent beings from a far-off planet delivered it (intentionally or not) by releasing bacteria from a spaceship (i.e., directed panspermia; [Crick & Orgel (1973)](https://www.sciencedirect.com/science/article/pii/0019103573901103?via%3Dihub)).  This explanation is not very satisfying because it merely shifts the problem from the beginnings of life on Earth to the beginnings of life in the Universe, which is a much more untenable issue to investigate.\n",
    "\n",
    "#### Group II: Improbable Event\n",
    "Another point of view is that life began through natural causes, but the events that lead to this process were extremely improbable.  From this premise, it follows that life anywhere (beyond this planet) may be rare and the remainder of the Universe may be barren.  Consider the following:\n",
    "\n",
    "```{epigraph}\n",
    "One has only to contemplate the magnitude of this task to concede that spontaneous generation is impossible, Yet we are here - as a result, I believe, of spontaneous generation.\n",
    "\n",
    "Time is in fact the hero of the plot.  The time with which we have to deal is of the order of two billion years.  Given so much time, the `impossible' becomes possible, the possible probable, and the probable virtually certain.  One has only to wait: time itself performs the miracles.\n",
    "\n",
    "-- George Wald ([1954](https://ui.adsabs.harvard.edu/abs/1954SciAm.191b..44W/abstract))\n",
    "```\n",
    "\n",
    "In our current thinking, the amount of time available is only ${\\sim}500$ Myr rather than 2 Gyr, though the maximum amount of space that can be used for random trials is presumably the same (i.e., the surface of the Earth and the areas that exchange material with it).  Both could be expanded greatly if the possibility of [panspermia](https://en.wikipedia.org/wiki/Panspermia) were taken into account.  Panspermia presumes that life can be spread from world to world by spores (or within meteors) through space.  Much of the Universe and much of the time since creation would then be available for trials on the origin of life.\n",
    "\n",
    "An improbable event requires us to understand a bit about probability itself (i.e., What are the chances?).  Given the age of our Universe and that it's filled with billions upon billions of stars, small improbabilities can multiply.  For example, how long would it take to generate the word \"at\" on my computer keyboard by random strokes?  Assume that I limit my strokes to the fifty keys that produce characters, and I could carry out one trial per second.  My chances would be 1 in 2500 ($50^2 = 50 \\times 50$), which means that I could expect to produce this word within about 45 minutes.\n",
    "\n",
    "Suppose we raise the difficulty level: *What are the chances that I could type this line at random?*  The italicized sentence has 48 characters (ignoring the spaces).  The odds of getting the order completely correct would be 1 in $50^{48}$, about 1 in $4\\times 10^{81}$!  If we consider 6 billion humans performing one trial per second and an Earth-like planet orbited every star within every Galaxy of the Universe ever since the Big Bang, then the odds would still be less than 1 in $10^{30}$.  \n",
    "\n",
    "The incredibly slim chances for success would be masked if one broke up that sentence into small fragments which were considered individually.  The chances for getting the first two characters right in a finite time would seem reasonable.  If we assume (wrongly) that the whole is the sum (rather than the product) of its parts, the entire sequence seems reasonable.  This type of reasoning  underlies much of the approach used for what is called *prebiotic synthesis*.  A number of steps is demonstrated separately in a laboratory, each under conditions that may have prevailed in one location or another on the early Earth.  The products of the reaction are then termed *prebiotic* a distinction that allows the experimenter to use any of the reactions in a subsequent prebiotic transformation.  Little consideration is given to the adverse probabilities generated by the numerous processes which are implied by the suggested sequence of steps.\n",
    "\n",
    "This inevitably leads to odds that makes the overall process seem near miraculous.  With some good fortune, such an event (i.e., combination of the correct compounds for life) might have occurred within the history of the Universe, and given rise to us.  A consequence of this theory would be that separate origins of life would very rare in the Universe.  Panspermia would still be a possibility, but any life that we encountered elsewhere would then be related to our own.  Astrobiology would represent a simple extension of Earth biology."
   ]
  },
  {
   "cell_type": "markdown",
   "metadata": {},
   "source": [
    "#### Group III: Cosmic Evolution\n",
    "In this viewpoint, life began through the inevitable consequences from the laws of nature.  There exists a principle of self-organization that has guided the development of the Universe from the Big Bang to the present.  Life is common in the Universe.  It will arise whenever a prerequisite set of materials interacts with a suitable energy source.  Life's origin is not liked to the improbable formation of a particular functioning large biomolecule, and it requires a much simpler set of ingredients:\n",
    "\n",
    "- a suitable source of free energy,\n",
    "- a set of chemicals that can utilize energy to increase its own ability to survive, and\n",
    "- an environment that is sufficiently stable so that the evolving system is not disrupted by extreme changes in conditions.\n",
    "\n",
    "This theory encourages the expectation that life is likely to arise on other worlds that have enjoyed Earth-like conditions during some part of their history.  No recipe for a specific set of ingredients for life is offered.  The possibility remains open that alternative lifeforms may rise in environments that are very different than Earth but still meet the necessary requirements for life.  This stance towards the origin of life is the most optimistic for the field of astrobiology, but it remains to be demonstrated that it is correct."
   ]
  },
  {
   "cell_type": "markdown",
   "metadata": {},
   "source": [
    "### Historical Background\n",
    "\n",
    "#### Spontaneous Generation\n",
    "For millennia, the consensus favored *spontaneous generation*, where life may arise quickly by chance from non-living matter and independent of the action of parents.  Aristotle and his followers claimed that fireflies emerged from morning dew from their many observations in which they suddenly appeared.  Many kinds of small animals seemed to arise from the mud at the bottom of ponds and streams.  The 17th century philosopher Ren&eacute; Descartes suggested that the process was driven by heat agitating the subtle and dense particles of putrefying matter.\n",
    "\n",
    "Through careful experimental tests to these speculative ideas, scientists found negative results for a whole array of lower lifeforms.  By the mid-19th century, the spontaneous generation question had contracted to the realm of microorganisms.\n",
    "\n",
    "```{epigraph}\n",
    "The cell theory was modified in the 1860s so that protoplasm came to be considered the structural unit of life.  Moreover, this protoplasm was viewed as an essentially simple substance, theoretically capable of bing produced directly from inorganic matter.  That the simples organism were generally regarded merely as naked lumps of protoplasm added credence to the belief that they, too, could be produced spontaneously.\n",
    "\n",
    "--John Farley ([1977](https://www.google.com/books/edition/The_Spontaneous_Generation_Controversy_f/1uHaAAAAMAAJ?hl=en))\n",
    "```\n",
    "\n",
    "The paradigm collapsed in the late 19th century as a result of the experiments of [Louis Pasteur](https://en.wikipedia.org/wiki/Louis_Pasteur).  Pasteur proclaimed in an 1862 lecture at the Sorbonne, \"never will the doctrine of spontaneous generation recover from the mortal blow of this simple experiment.\"  Pasteur heated and thus sterilized a broth of sugared yeast water, which showed that a solution could be devoid of life and did not spontaneously accumulate microbes until direct contact with the outside air was re-established.\n",
    "\n",
    "Experiments similar to Pasteur's demonstrated that all living things arise today from existing life.  The results were comforting to those with the Biblical-Creationist view, where a Creator was necessary to bring life to the world for the first time.  This included Pasteur himself:\n",
    "\n",
    "```{epigraph}\n",
    "What a victory for materialism if it could be affirmed that it rests on the established fact that matter organizes itself, takes on life itself, matter which has in it already all known forces! ... Of what good would it be then to have recourse to the idea of a primordial creation, before which mystery it is necessary to bow?  What good then would be the idea of a Creator God?\n",
    "\n",
    "--John Farley ([1977](https://www.google.com/books/edition/The_Spontaneous_Generation_Controversy_f/1uHaAAAAMAAJ?hl=en))\n",
    "```\n",
    "\n",
    "A scientific (rather than theologic) view need to push the origin back to an earlier era when conditions on the Earth were very different, and when timespans greater than a few days could be invoked.  It was recognized that the generation of a fully equipped modern functioning cell might not be necessary to get life going.  Some simpler system which utilized only a portion of a cell might suffice."
   ]
  },
  {
   "cell_type": "markdown",
   "metadata": {},
   "source": [
    "#### The Oparin-Haldane Hypothesis\n",
    "This theory proposed separately by [Alexander Oparin](https://en.wikipedia.org/wiki/Alexander_Oparin) and [J.B.S. Haldane](https://en.wikipedia.org/wiki/J._B._S._Haldane) stated that life arose slowly on the early Earth in a \"prebiotic soup\" of chemicals that covered the planet through a series of steps.\n",
    "\n",
    "1. The early Earth had an oxygen-free atmosphere, but contained ammonia, hydrogen gas, water, and methane (i.e., reduced carbon bound to hydrogen).\n",
    "2. This atmosphere was exposed to a variety of energy sources: solar radiation, meteorite and comet infall, volcanic eruptions, lightning, and others, which led to the formation of organic compounds.\n",
    "3. These substances \"must have accumulated until the primitive oceans reached th consistency of hot dilute soup\" as stated by Haldane.  [Harold Urey](https://en.wikipedia.org/wiki/Harold_Urey) suggested that the soup components, \"would remain for long periods of time in the primitive oceans. ... This would provide a very favorable situation for the origin of life.\" \n",
    "4. By unspecified transformations, life developed in this soup.\n",
    "\n",
    "Some elements of the hypothesis were demonstrated in a famous 1953 experiment by Urey and his student [Stanley Miller](https://en.wikipedia.org/wiki/Stanley_Miller).  They set up a flask of boiling water to represent the oceans of the early Earth.  The water vapor passed through a compartment that held two electrodes and supported a spark discharge.  The spark served as an energy source and represented lightning.  After the vapors passed through the spark, they were condensed to water droplets that returned to the original flask.  The entire system was enclosed and filled with a mixture of methane, ammonia, and hydrogen gases to mimic the primitive atmosphere (as it was understood at the time).  The experiment was run for a week, in which all of the methane was consumed. *What was produced in its place?*\n",
    "\n",
    "The results apparently depended upon the arrangement of the compartments and the nature fo the spark.  The most exciting result was to produce a mixture containing amino acids, the building blocks of proteins.  In a modified design, a hydrocarbon layer was formed that was devoid of amino acids.  A later experiment, an intermittent spark was used, but few organic compounds were produced.  Further studies were carried out under the conditions that afforded amino acids.\n",
    "\n",
    "<div align=\"center\">\n",
    "\n",
    "<iframe width=\"560\" height=\"315\"\n",
    "src=\"https://www.youtube.com/embed/NNijmxsKGbc\" \n",
    "frameborder=\"0\" \n",
    "allow=\"accelerometer; autoplay; encrypted-media; gyroscope; picture-in-picture\" \n",
    "allowfullscreen></iframe>\n",
    "\n",
    "</div>\n",
    "\n",
    "The prominent product was a tar-like, insoluble substance that coated the walls of the vessel.  Fifteen percent of the methane had been converted to a mixture of simple organic compounds.  Fourteen of these compounds were present in yields over $0.1\\%$.  All of the compounds were organic acids (i.e., carboxylic acids), which may have been preserved from destruction by their formation of non-volatile ammonium salts.  The salts would have remained in the liquid phase and evaded continuous recycling through the spark.  Two amino acids produced are used in life's proteins, while the remainder are not.\n",
    "\n",
    "The experiment did confirm one tenet of the hypothesis: that an atmosphere of methane, hydrogen, and ammonia, when exposed to certain types of energy, would afford a mixture of organic compounds.  It revealed nothing about the processes that produce a living organism from such a mixture.  As our understanding of the complexity of life has increased, that problem has become more difficult over the next 50+ years."
   ]
  },
  {
   "cell_type": "markdown",
   "metadata": {},
   "source": [
    "#### Even the Simplest Forms of Life are Complex\n",
    "In the mid-19th century, a common scientific idea was that hte building material of life was a pulpy, gel-like, structureless material called [protoplasm](https://en.wikipedia.org/wiki/Protoplasm).  In 1857, [Thomas Huxley](https://en.wikipedia.org/wiki/Thomas_Henry_Huxley) dredged a \"transparent, gelatinous matter\" from the sea bottom and concluded it was protoplasm.  If the construction of life was relatively simple, then it would be not surprising if life could be prepared from simple broths of nutrients.  After 150 years of careful study, a very different picture emerged.  A bacterium is far more complex than the most intricate machine constructed by humans."
   ]
  },
  {
   "cell_type": "markdown",
   "metadata": {},
   "source": [
    "### The Architecture of Life\n",
    "```{figure-md} complexity-life-fig\n",
    "<img src=\"https://openstax.org/apps/archive/20220509.174553/resources/07b21776858173731d2afd4b07d25300ca673a9c\" alt=\"complexity scale\"  width=\"600px\">\n",
    "\n",
    "The complexity of life on a logarithmic scale, where lipids and proteins are ${\\sim}10-100\\times$ larger than an atom.  Most living things are larger than $1\\ {\\rm \\mu m}$.  Image Credit: Openstax:[Biology](https://openstax.org/books/biology-2e/pages/4-2-prokaryotic-cells).\n",
    "```\n",
    "\n",
    "#### Eukaryotic Cells have Complex Internal Structure\n",
    "\n",
    "The complexity of life life is shown over many orders of magnitude in Figure {numref}`{number}<complexity-life-fig>`.  A number of distinct features exist at the human level (e.g., limbs, eyes, nose, etc.), where magnification to the organ or tissue level $(100\\ {\\rm \\mu m}-1\\ {\\rm mm})$ produces some simplification and the cellular level $(10-100\\ {\\rm \\mu m})$ has a wealth of complex structures (e.g., [organelles](https://en.wikipedia.org/wiki/Organelle)).  The [mitochondrion](https://en.wikipedia.org/wiki/Mitochondrion) is an organelle with intricate detail in its construction (see Fig.  {numref}`{number}<mitochondria-fig>`).  At the molecular level, individual proteins emerge and chemical analysis shows that the protein is a chain molecule whose links are amino acids.  A set of twenty related amino acids is used in Earth biology to construct all proteins.  To get a protein with a particular shape and function, it is necessary to connect (encode) the amino acids in a specific order.\n",
    "\n",
    "```{figure-md} mitochondria-fig\n",
    "<img src=\"https://openstax.org/apps/archive/20220509.174553/resources/00abe6130e466e45f70e9e3b98dca42bdcd1409a\" alt=\"mitochondria\"  width=\"600px\">\n",
    "\n",
    "This electron micrograph shows a mitochondrion through an electron microscope. Image Credit: Openstax:[Biology](https://openstax.org/books/biology-2e/pages/4-3-eukaryotic-cells).\n",
    "```\n",
    "\n",
    "#### Bacterial (Prokaryotic) Cells are Simpler\n",
    "\n",
    "For most of Earth's history, single-celled organisms were the *only* form of life.  In seeking an origin for life, the appearance of these forms must be explained.  In a superficial examination, a bacterial cell reveals fewer details than a eukaryotic cell, but a deeper inspection (at higher magnification) reveals many complexities.  Bacterial cells are crafted of large molecules, where many are used in the construction of a eukaryotic cell (e.g., large molecules are proteins and nucleic acids).  \n",
    "\n",
    "```{figure-md} bacterial-fig\n",
    "<img src=\"https://openstax.org/apps/archive/20220509.174553/resources/50163f8ff80f335574f41bfc10cc49a1e87cf9df\" alt=\"bacterial cell\"  width=\"600px\">\n",
    "\n",
    "The features of a typical prokaryotic cell. Flagella, capsules, and pili are not found in all prokaryotes. Image Credit: Openstax:[Biology](https://openstax.org/books/biology-2e/pages/22-2-structure-of-prokaryotes-bacteria-and-archaea).\n",
    "```\n",
    "\n",
    "Individual units called [nucleotides](https://en.wikipedia.org/wiki/Nucleotide) are strung together in a linear array to construct long chains, where each nucleotide consists of a sugar (deoxyribose in DNA and ribose in RNA), a phosphate group, and a base.  Only four different nucleotide units are combined to construct a nucleic acid.  But what nucleic acids lack in variety, they make up for in size.  In the case of DNA (*deoxyribonucleic acid*), several million nucleotides are linked huge circle to form the bacterial chromosome.  RNA (*ribonucleic acid*) does not attain such lengths, but appears in a greater variety of cellular contexts than DNA, and performs many more functions.  Other macromolecules that serve as recognition elements in cellular contacts (signaling), energy storage, and structural materials for the membrane of the cell, which include the\n",
    "\n",
    "- [polysaccharides](https://en.wikipedia.org/wiki/Polysaccharide), \n",
    "- [carbohydrates](https://en.wikipedia.org/wiki/Carbohydrate), and\n",
    "- [lipids](https://en.wikipedia.org/wiki/Lipid).\n",
    "\n",
    "#### Organized at the Molecular Level: Proteins, Nucleic Acids, and Lipids\n",
    "Historically, biologists used a \"top-down\" approach to understand life, where anatomical studies of larger (macro-sized) creatures first drew their interest.  Chemists worked in a \"bottom-up\" fashion and studied the molecular components of life before attempting to explore the larger structures.  Chemically, a bacterial cell is primarily composed of water (70% by weight), which serves as a [solvent](https://en.wikipedia.org/wiki/Solvent).  Hundreds of organic molecules are present, but they comprise only a few percent of the cell (by weight).\n",
    "\n",
    "```{note}\n",
    "A [percentage by weight](https://chemistrytalk.org/percent-by-weight-calculation/) refers to the mass ratio of a substance, where the mass of the quantity in question is divided by the total mass.  If a bacterial cell is 70% water (by weight), then there are 7 g of water for every 10 g of the total cell mass.  The typical total mass of a bacterium is ${\\sim}10^{-12}\\ {\\rm g}=1\\ {\\rm pg}$.\n",
    "```\n",
    "\n",
    "Inorganic ions of many kinds provide only about 1% of the cellular mass, where the remainder of a bacterial cell is composed of biopolymers or macromolecules (e.g., proteins (15%) and nucleic acids (${\\sim}7\\%$)).  Proteins and nucleic acids comprise the bulk of the organic components, and play a number of roles in vital cellular processes.  Over 99% of the atoms in a bacterium are $\\rm H$, $\\rm O$, $\\rm C$, and $\\rm N$.\n",
    "\n",
    "```{note}\n",
    "In chemistry, an [organic compound](https://en.wikipedia.org/wiki/Organic_compound) is a molecule containing carbon.   [Organic matter](https://en.wikipedia.org/wiki/Organic_matter) refers to a once living organism that is capable (or the product) of decay, or composed of organic compounds.\n",
    "```\n",
    "\n",
    "**Proteins** control most cellular functions, where our muscles move through their contraction/relaxation.  The rotation of flagella (a protein structure) in bacteria allow them to swim.  Proteins can perform many more functions, such as\n",
    "\n",
    "- forming gateways in the cellular membranes constricting the movement of substances to enter or leave the cell. \n",
    "- transporting electrons via brigades within cellular organelles.\n",
    "- functioning as bioweapons and poisons (e.g., defensive antibodies).\n",
    "- forming a scaffolding for cells (e.g., the cartilage that forms our noses).\n",
    "\n",
    "Most importantly they can act as [enzymes](https://en.wikipedia.org/wiki/Enzyme), which speed up chemical reactions needed for life relative to benign or destructive reactions.  Proteins are composed of [amino acids](https://en.wikipedia.org/wiki/Amino_acid), where those used in living organisms contain the (arbitrarily called) left-handed form.  The reason for this selection is unclear, where it could be from physical processes arising from an environmental bias, simply arbitrary, or governed by some accident.  When looking for life elsewhere, we must acknowledge our own limited [ontology](https://en.wikipedia.org/wiki/Ontology_(information_science)).  It could be a boon, in that a strong signal for panspermia could be identified.  On the other hand, it could be our bane, where we are not initially equipped to detect such life.\n",
    "\n",
    "The linear sequence of amino acids in a protein governs the way that it folds in 3D space, where [artificial intelligence (AI)](https://www.technologyreview.com/2022/02/23/1044957/ai-protein-folding-deepmind/) has come to the fore to increase our understanding.  Proteins produced by billions of years of evolution fold into distinct shapes, with charges at particular locations, and reactive groups in proximity to each other.  This folding will determine the biological function of a protein by:\n",
    "\n",
    "- whether it wil bind certain organic molecules and catalyze their reactions, or\n",
    "- form a regular structure (e.g., helix) and act as a binding material.\n",
    "\n",
    "Sometimes proteins are created in the cell in a particular way and are later modified to meet a particular function.  In this case a protein may be altered by other proteins or may recruit an additional factor (e.g., organic molecule or inorganic ion).\n",
    "\n",
    "**Nucleic acids** store hereditary information and reproduce themselves (with the help of proteins).  An organelle called the [ribosome](https://en.wikipedia.org/wiki/Ribosome) can synthesize protein from amino acids, where the bacterial ribosome is made of 50+ proteins and 3 RNA molecules.  The RNA catalyzes the central step of the protein synthesis process, the linking of each new amino acid to the growing chain called a [polypeptide](https://en.wikipedia.org/wiki/Peptide) chain.  Individual amino acids\n",
    "are transported to the ribosome for manufacturing purposes by [*transfer* RNA](https://en.wikipedia.org/wiki/Transfer_RNA).\n",
    "\n",
    "A bacterial cell man contain ${\\sim}\\text{20,000}$ ribosomes able to produce several thousand proteins, where each ribosome can produce any of the proteins.  A ribosome determines which protein to manufacture through an information-bearing \"tape\" that threads through the ribosome.  This tape is made of [*messenger* RNA](https://en.wikipedia.org/wiki/Messenger_RNA), which carries information in the sequence of *bases* (a subunit of a nucleotide) that project from the backbone of the RNA.  The bases of **RNA** are \n",
    "\n",
    "- adenine (A),\n",
    "- cytosine (C),\n",
    "- guanine, (G), and\n",
    "- uracil (U).\n",
    "\n",
    "The recognition scheme of these bases is the so-called *genetic code*, and the overall process is called *translation*.\n",
    "\n",
    "Messenger RNA is not the original source of the information, but it has been carried by DNA (i.e., holder of the master blueprint for the cell).  A portion of the information in DNA is read into a messenger in a process called *transcription*.  DNA exists as the famous double helix, where two DNA chains (polymers) wrap around one another and linked by an affinity through the well-known Watson-Crick pairs.  These pairs combine from similar bases as RNA, where DNA contains thymine (T) instead of uracil to make the code with combinations of A, T, C, and G.  \n",
    "\n",
    "<div align=\"center\">\n",
    "\n",
    "<iframe width=\"560\" height=\"315\"\n",
    "src=\"https://www.youtube.com/embed/X_tYrnv_o6A\" \n",
    "frameborder=\"0\" \n",
    "allow=\"accelerometer; autoplay; encrypted-media; gyroscope; picture-in-picture\" \n",
    "allowfullscreen></iframe>\n",
    "\n",
    "</div>\n",
    "\n",
    "Each chain contains all the information present in the double helix, where individual chains are complementary.  Once chain can thus be used as a template for the construction of the other from appropriate nucleotide subunits.  This process requires the assistance of a specialized protein enzyme called a *polymerase*, and other helpful proteins.  When a bacterial cell divides to give two daughters, the two DNA strands of its chromosome come apart, and each is copied to provide a complement.  Through replication, a complete chromosome for each daughter cell is provided.\n",
    "\n",
    "**Lipids** form a boundary, separating the contents of the cell from the external world.   This function prevents the contents of a cell from being dispersed into the broader environment.  This boundary must not be impermeable, where selective admission of nutrients is necessary for metabolic processes, waste needs to be removed, and undesired substances can be ejected.  The process for basic membrane construction is far less rigorous and information-rich than those for proteins and nucleic acids.\n",
    "\n",
    "```{figure-md} lipid-fig\n",
    "<img src=\"https://upload.wikimedia.org/wikipedia/commons/thumb/c/c6/Phospholipids_aqueous_solution_structures.svg/833px-Phospholipids_aqueous_solution_structures.svg.png\" alt=\"lipids\"  width=\"450px\">\n",
    "\n",
    "Cross section of the different structures that phospholipids can take in a aqueous solution. The circles are the hydrophilic heads and the wavy lines are the fatty acyl side chains. Image Credit: Wikipedia:[lipid bilayer](https://en.wikipedia.org/wiki/Lipid_bilayer).\n",
    "```\n",
    "\n",
    "[Amphiphiles](https://en.wikipedia.org/wiki/Amphiphile) contain both hydrophilic (water-loving) and hydrophobic (water-shunning) parts.  When amphiphiles are placed in water, they arrange themselves to that the hydrophilic parts are exposed to the water and the hydrophobic parts cluster inside.  One arrangement is a [micelle](https://en.wikipedia.org/wiki/Micelle), which is a sphere with the hydrophilic groups on the surface and the hydrophobic ones within.  Another is a [bilayer](https://en.wikipedia.org/wiki/Lipid_bilayer), with two aligned layers of amphiphiles arranged in a tail-to-tail structure that resembles a membrane.  A bilayer can also curve to produce a curved structure that resembles a membrane of a cell.  Biological cellular membranes are modified by embedded protein, which control the access of small molecules into the cell."
   ]
  },
  {
   "cell_type": "markdown",
   "metadata": {},
   "source": [
    "### Central Ideas About the Origin of Life\n",
    "\n",
    "#### Thermodynamics and Probability\n",
    "The [second law of thermodynamics](https://saturnaxis.github.io/Astrobio/Chapter_02/Physics_and_Astrophysics.html#laws-of-thermodynamics) specifies that spontaneous processes in a closed system are characterized by the conversion of order to disorder.  The entropy of the system (measure of disorder) must increase, but entropy is also associated with probability (i.e., a probability of possible states).  The formation of an organized system from disorder is not forbidden, but highly improbable.  Living systems \"pay\" for their existence by creating more disorder elsewhere in the system.  For example, they may convert nutrients to simpler chemicals, but the process causes a release of heat to the general environment and increases the disorder of that environment.  [*There's no such thing as a free lunch.*](https://en.wikipedia.org/wiki/There_ain%27t_no_such_thing_as_a_free_lunch)\n",
    "\n",
    "The spontaneous generation of a living bacterium from small molecules would be near-miraculous due to its interior complexity.  The odds that component atoms within a hot gas could self-assemble into a bacterium are more than astronomical ($1\\ \\text{in } 10^{10^{11}}$; [Morowitz 1968](https://www.google.com/books/edition/_/6xE3AAAAIAAJ?hl=en&sa=X&ved=2ahUKEwiZ7Nvwvez4AhVMEGIAHcFZBFcQ7_IDegQIDxAE)).  Matters might improve by thousands of orders of magnitude if we started with an appropriate mixture of small molecular species, but the overall prospect would still be hopeless.  To reduce the improbability, scientists have suggested that life began with only a very limited subset of the components of a bacterial cell.  The hart of the origin-of-life problem lies in finding the way in which the initial functioning system was formed from disorganized chemical mixtures produced by th normal processes of abiotic chemistry. \n",
    "\n",
    "<div align=\"center\">\n",
    "\n",
    "<iframe width=\"560\" height=\"315\"\n",
    "src=\"https://www.youtube.com/embed/iLbbpRYRW5Y\" \n",
    "frameborder=\"0\" \n",
    "allow=\"accelerometer; autoplay; encrypted-media; gyroscope; picture-in-picture\" \n",
    "allowfullscreen></iframe>\n",
    "\n",
    "</div>\n",
    "\n",
    "#### Separate Problems: Origin of Life vs. Origin of Organics\n",
    "In the early 19th century, many chemist felt that the distinction life and non-life lay in the very chemicals used to construct them.  Living system contained carbon and the chemicals in them were called \"organic,\" while substances considered to be inorganic (with some exceptions) had no carbon.  This distinction was erased in 1828, when [Friedrich W&ouml;hler](https://en.wikipedia.org/wiki/Friedrich_W%C3%B6hler) prepared urea from another substance that was classified as organic.  \n",
    "\n",
    "We now recognize that mixtures of simple organic chemicals are produced in many location off this planet (e.g., carbonaceous chondrites, interstellar dust clouds, cometary tails, and the atmosphere of Titan). The most informative studies have been performed on meteorites, where they represent the products of authentic abiotic processes, and are amenable to detailed analyses in Earth-based laboratories.  The [Murchison meteorite](https://en.wikipedia.org/wiki/Murchison_meteorite) has been subjected to extensive analysis.  \n",
    "\n",
    "The contents of the meteorite are quite complex, where the bulk of the carbon present is in the form of insoluble macromolecules and soluble organic compounds comprise 10-20%.  The most predominant chemical class is organic sulfonic acids, followed by polar aromatic hydrocarbons, and carboxylic acids.  Amino acids occur at levels between $10-100$ ppm (1-2 orders of magnitudes lower than the aforementioned compounds), and the base components of nucleic acis at about 1 ppm.  Sugars and phosphate esters of all kinds are absent.  More than 70 amino acids have been detected in the Murchison meteorite, but only eight of the twenty needed for Earth-life were among them.\n",
    "\n",
    "If we presume that life on Earth began amidst a chaotic chemical mixture, we must look for a pathway by which the smaller components could organize themselves.  Another question arises: *How did the components of that mixture come to be present on the early Earth?*"
   ]
  },
  {
   "cell_type": "markdown",
   "metadata": {},
   "source": [
    "#### Possibilities for Reduced Organics\n",
    "Underlying the Miller-Urey experiment was the assumption that the primitive atmosphere of the Earth was derived from solar nebula, and was therefore rich in hydrogen.  This explains the atmospheres of the outer Solar System planets, which have reducing atmospheres consisting of molecular hydrogen $\\rm H_2$ but not $\\rm H_2O$.  Subjecting an atmosphere rich in molecular hydrogen to energy from various sources was expected to give rise to a global \"prebiotic soup.\"\n",
    "\n",
    "However, the current consensus suggests that any primary atmosphere of hydrogen was lost quickly and replaced by a [secondary atmosphere](https://saturnaxis.github.io/Astrobio/Chapter_03/Planetary_Heating_and_Atmospheres.html#history-of-secondary-atmospheres) due to outgassing from the planet.  While a prebiotic atmosphere for the early Earth may still be favored by some prebiotic chemists, the weight of the geochemical opinion favors and early (at least by the time life arose) atmosphere dominated by heavier gases.  This is in accord with current observations of volcanic emissions.\n",
    "\n",
    "Some organics could be supplied through infall of comets and meteorites, but the total quantity from these sources are expected to be small compared to the total volume required for global life.  It is not necessary to supply the entire globe with organics to furnish raw materials for the origin of life.  Some very specialized and favorable local environments may have been sufficient for the purpose, which was a view expressed by Darwin in 1871.  \n",
    "\n",
    "Darwin's \"warm little pond\" has been joined by several other suitable locations (e.g., hydrothermal vents).  Vent conditions have been shown suitable for mineral-catalyzed abiotic synthesis of a number of small organic molecules relevant to biochemistry.  Abiotic hydrocarbon reservoirs within mineral enclosures deep within Earth's crust represent another proposed site.  Igneous mineral matrices have been demonstrated suitable locations for assembly of carboxylic acids from $\\rm CO$ and $\\rm CO_2$.\n",
    "\n",
    "In our current ignorance about the varieties of life in the Universe, we cannot exclude the alternative explanation that life began on this planet without the assistance of organic molecules.  In theory (from Cairns-Smith), layered clay minerals provide all of the necessary qualities needed to support life: information storage, reproductive ability, catalysis, and the capacity to evolve.  In this picture, organic molecules were introduced as an evolutionary improvement only after mineral life was well underway.\n",
    "\n",
    "A central problem for the origin of life remains, which is identifying mechanism by which an abiotic chemical mixture absorbs energy, increases in complexity, and evolves.  The availability of a suitable energy source, necessary raw materials, and a suitable locale are prerequisites, but not the answer to the riddle of self-organization.  In the search for that answer, investigators have a dilemma.  Which was first to appear on Earth: replicating molecules or metabolic processes?"
   ]
  },
  {
   "cell_type": "markdown",
   "metadata": {},
   "source": [
    "### Replicator-first Theories\n",
    "The discovery of the structure of DNA showed how hereditary material was stored, where the replicator DNA was at the center of our understanding of life.  The beauty of the double helix, which demonstrated how both reproduction and information storage could be carried out at the molecular level, convinced many in the field that nucleic acids were at the center of life.\n",
    "\n",
    "#### Advantages of the Replicator Theory\n",
    "Darwin's theory of natural selection provided a path for the evolution of simple cells to humans.  It could be extended so that a replicator could also evolve by natural selection, but in an environment where molecules reproduced, mutated, and survived according to their ability to further reproduce in the environment.  To explain the origin of life, one only had to account for the origin of the first replicator.\n",
    "\n",
    "Considerable support for finding the first replicator was provided by using the RNA of a virus called $\\rm Q\\beta$ in experiments by [Sol Spiegelman](https://en.wikipedia.org/wiki/Sol_Spiegelman) and his group in the 1960s and 1980s.  $\\rm Q\\beta$ uses RNA rather than DNA as its genetic material, with replication carried out in a manner described by Watson and Crick.  In the presence of the appropriate polymerase enzyme and the four necessary building blocks (nucleoside triphosphates), the RNA can be replicated in a test tube.  The synthesized RNA can act as a template for producing more RNA, as long as the supplies of building blocks holds up.  Spiegelman's group was able to  follow this process for a time equivalent of over 70 RNA \"generations.\"\n",
    "\n",
    "In one thought-provoking experiment, Spiegelman's group added a drug that bound to certain sites on the RNA, which greatly slowed the copying rate.  After several generations the favored binding place of the drug had been destroyed by three mutations in the product RNA.  The product RNA had replicated more rapidly than other competing variations of the RNA, and its descendents soon became an overwhelming majority of the colony.  This process represented Darwinian evolution at the molecular level.\n",
    "\n",
    "#### A Problem with a Solution\n",
    "\n",
    "**Problem**: *A naked replicator could carry information, but could not carry out tasks today performed by proteins.*  The RNA replicator concept could not be extended immediately to the origin of life because a protein enzyme was needed for the copying to take place.  [Leslie Orgel](https://en.wikipedia.org/wiki/Leslie_Orgel) described this paradox as \"the chicken or the egg\" problem.  A nucleic acid could be copied, and evolve through mutation, but could not by itself carry out the necessary catalytic functions.  Nucleic acids and protein both appear necessary for the conduct of life, but it is difficult to account for the appearance of either substance on the early Earth.  The abiotic formation of both together seemed out of the question.\n",
    "\n",
    "**Solution**: *Life began with an \"RNA World.\"* [Thomas Cech](https://en.wikipedia.org/wiki/Thomas_Cech) and [Sidney Altman](https://en.wikipedia.org/wiki/Sidney_Altman) showed that RNA molecules could carry out some of the functions of proteins.  The term *RNA World* was applied to describe the vision of [Walter Gilbert](https://en.wikipedia.org/wiki/Walter_Gilbert), where RNA alone performed all the key functions of life before proteins arrived on the scene.  The elegant way in which catalytic RNA appeared to solve the \"chicken and egg\" paradox led many to the conviction that RNA World existed in the earliest days of life on Earth.  Over several decades, biochemists developed techniques to demonstrate the ability of RNA to perform the actions of proteins.  However, this solution says little about the origin of life on Earth due to the absence of chemists and high-tech labs on the early Earth, and the extreme improbability of the abiotic synthesis of even a single functioning RNA molecule under realistic natural conditions.\n",
    "\n",
    "<div align=\"center\">\n",
    "\n",
    "<iframe width=\"560\" height=\"315\"\n",
    "src=\"https://www.youtube.com/embed/K1xnYFCZ9Yg\" \n",
    "frameborder=\"0\" \n",
    "allow=\"accelerometer; autoplay; encrypted-media; gyroscope; picture-in-picture\" \n",
    "allowfullscreen></iframe>\n",
    "\n",
    "</div>\n",
    "\n",
    "#### Just a Problem\n",
    "**Problem**: *RNA is too complicated to form spontaneously.*  Gilbert's seminal paper described RNA molecules catalyzing their own assembly from a \"nucleotide soup.\"  It was widely presumed that nucleotides were readily available on the early Earth.  However, this assumption has not been supported by evidence.  There are significant difficulties in synthesizing RNA by considering the likely abiotic availability of *adenosine*.  This substance has not been detected in any quantity within a Miller-Urey type experiment or a meteorite.  To get the necessary adenosine, it has been suggested that the base [adenine](https://en.wikipedia.org/wiki/Adenine) and the sugar ribose were formed separately, brought together, and combined.  *How likely are these events?*\n",
    "\n",
    "**Ribose formation**: The sugar ribose is the essential backbone component of RNA, where a reaction with formaldehyde has been generally cited as a plausible source of ribose on the early Earth.  However, the ribose soon decomposes.  The half-life for decomposition is around 73 minutes in an environment at $100\\ {\\rm ^\\circ C}$ at a pH of 7, and 44 years at $0\\ {\\rm ^\\circ C}$.  Ribose yields can be improved by adding specific minerals, careful control of experimental conditions, and by the input of pure reagents.  But, each such specification escalates the improbability that such conditions could naturally occur.\n",
    "\n",
    "**Adenine formation**: Adenine can be prepared as long as the concentration of $\\rm HCN$ remains sufficiently high ($0.1$ Molarity ($\\rm M$)).  One estimate for a maximum plausible $\\rm HCN$ concentration in a prebiotic ocean of Earth has been $4\\times 10^{-5}\\ {\\rm M}$.  A remedy proposed for this situation was that the adenine was produced in lakes that froze seasonally, which concentrated the $\\rm HCN$.  However, there are several other necessary ingredients (e.g., ammonia), and the introduction of formaldehyde that tended to consume the $\\rm HCN$.\n",
    "\n",
    "**Combination of adenine and ribose to form adenosine**:  Assuming that adenine and ribose formed separately, there are complex reactions that could bring them together to react.  However, the product was not the one used in RNA.  A mixture containing some adenosine can be produced, but still in the presence of other [isomers](https://en.wikipedia.org/wiki/Isomer) that would be expected to interfere with RNA synthesis.  Experiments could be constructed that violate no natural law, but would fall within the category of an extremely improbable event.  Some scientists feel that the current state of prebiotic chemistry reflects the presence of unanswered problems, which can be cured by the application of additional ingenuity."
   ]
  },
  {
   "cell_type": "markdown",
   "metadata": {},
   "source": [
    "### Pre-RNA World\n",
    "A number of scientists felt that the formation of the first replicator was coincident with the origin of life sought an alternative because they were unhappy with the prebiotic synthesis of RNA.  The task of the pre-RNA World advocates was to identify another polymeric substance that possessed the catalytic and self-replication abilities of RNA, while begin a more plausible product of abiotic synthesis.  Ideally this substance would form a stable double helix with an RNA strand to provide a mechanism for heritability (i.e., information transfer) during the course of evolution.\n",
    "\n",
    "Two candidate structures were synthesized as part of a comprehensive effort to prepare analogs of DNA and RNA. One extensively investigated example was p-RNA (pyranosyl-RNA), which retained the sugar ribose, but replaced the five membered ring in RNA with a six-membered (pyranosyl) ring (see Fig. {numref}`{number}<RNA-fig>`).  Since free ribose in solution prefers a six-membered ring, the prospects for the abiotic synthesis of p-RNA would appear marginally better than RNA.  Another candidate RNA precursor is TNA (threose nucleic acid), which contains only four carbons, and may be more accessible to abiotic synthesis than ribose (see [Robertson & Joyce (2012)](https://www.ncbi.nlm.nih.gov/pmc/articles/PMC3331698/) for more details).  A TNA strand will cross-pair with both RNA and DNA.  Despite these advantages, there are problems with sugar instability and other difficulties that apply to the abiotic synthesis of any sugar-based replicator.\n",
    "\n",
    "```{figure-md} RNA-fig\n",
    "<img src=\"https://www.ncbi.nlm.nih.gov/books/NBK26876/bin/ch6f93.jpg\" alt=\"RNA\"  width=\"450px\">\n",
    "\n",
    "Like RNA, both p-RNA and PNA can form double helices through complementary base-pairing, and each could therefore in principle serve as a template for its own synthesis. Image Credit: [Alberts et al. (2002)](https://www.ncbi.nlm.nih.gov/books/NBK26876/).\n",
    "```\n",
    "\n",
    "A third example of an RNA precursor is PNA (peptidyl nucleic acid), which escapes the complications of carbohydrate (sugar) chemistry.  The structure contains two alternating units and has no chiral center.  PNA can form stable double helices with itself, and it can cross-pair with RNA and DNA.  The evidence supporting PNA includes the traces of the fundamental repeating unit of the backbone were formed in a Miller-Urey spark discharge experiment, but at $<0.01\\%$ of the glycine.  It seems unlikely that the amount of PNA backbone component on the early Earth would approach that of its much simpler constituent, glycine."
   ]
  },
  {
   "cell_type": "markdown",
   "metadata": {},
   "source": [
    "### Metabolism-first Theories\n",
    "If replicator theories are set aside as extremely improbable (not impossible) scenarios for the origin of life, then a surprising conclusion emerges: although proteins, nucleic acids, and other macromolecules dominate the activities of present cells, in the beginning life functioned without them.  Small molecules carried out the processes of catalysis, information storage, and reproduction using energy-driven cycles of chemical reactions.  In metabolism-first theories, a number of alternatives are presented for how the small molecules carry out basic life processes.\n",
    "\n",
    "**Information is stored in the mixture**: A list storing all the information like DNA may be unnecessary.  A set of molecules within a primitive cellular compartment on the early Earth would carry their own heredity.  An informational system of this type has been called a \"compositional genome\" [(Segr&eacute;, Ben-Eli, & Lancet 2000)](https://www.ncbi.nlm.nih.gov/pmc/articles/PMC18166/).\n",
    "\n",
    "**Reproduction is carried out by splitting the compartment**: In the absence of a list, a primitive replicator-free cell could reproduce by collecting a duplicate set of its contents from the environment, and then splitting in two.  Improved ingredients could also be collected from the environment, which would be the equivalent of a mutation.\n",
    "\n",
    "**Enzymatic catalysis is carried out by monomers**: Small molecules cannot approach the speed or specificity of highly evolved enzymes, but it is not clear how much of the higher functions would be need to drive primitive autocatalytic cycles.  As evolution progressed, [monomers](https://en.wikipedia.org/wiki/Monomer) may have yielded to [dimers](https://en.wikipedia.org/wiki/Dimer_(chemistry)) and [trimers](https://en.wikipedia.org/wiki/Trimer_(chemistry)), gradually ascending the ladder of complexity.\n",
    "\n",
    "**Energy-driven catalytic cycles perform the essential processes of the cell**: Some possible functions of importance are the synthesis of improved catalysts and membrane components that permit improved interaction with the energy supply.  Possible energy sources include light, redox reactions involving organic substances, volatile inorganics and minerals, pH gradients, and ionic potentials across membranes.  It is not clear (at present) which of these was most suitable on the early Earth.\n",
    "\n",
    "- *The Lipid World*: This scenario includes a self-assembling lipid micelle that would catalyze necessary reactions by itself.  The name \"lipozyme\" has been given to such an assembly. Eventually dimers and higher oligomers would form, leading to a nucleic acid \"takeover\" of the hereditary function.  \n",
    "- *The Iron-Sulfur World*: The evolving system is segregated from the environment by being constrained to the surface of a positively charged mineral.  The candidate of choice is pyrite (iron sulfide, or \"fools gold\").  The formation of pyrites from hydrogen sulfide and ferrous ion provides a source of chemical energy to drive a variety of processes including the fixation of carbon monoxide and carbon dioxide into small organic molecules.  No pre-formed chemical \"soup\" is necessary and hydrothermal vents are the preferred location.\n",
    "\n",
    "<div align=\"center\">\n",
    "\n",
    "<iframe width=\"560\" height=\"315\"\n",
    "src=\"https://www.youtube.com/embed/yTxZXkp-6sI\" \n",
    "frameborder=\"0\" \n",
    "allow=\"accelerometer; autoplay; encrypted-media; gyroscope; picture-in-picture\" \n",
    "allowfullscreen></iframe>\n",
    "\n",
    "</div>"
   ]
  },
  {
   "cell_type": "markdown",
   "metadata": {},
   "source": [
    "## The Earliest Records of Life on Earth\n",
    "\n",
    "### Problems with the Record\n",
    "Astrobiology has only a single successful experiment in planetary life to investigate, Earth life.  The history of terrestrial life must act as the archetype for astrobiological models of the appearance and radiation of life anywhere in the Universe, albeit an ever more contingent and unique one.  It could be argued that all habitable planets experienced similar environmental constraints and pathways of physical and chemical development.  Then, the process of biological initiation elsewhere should be broadly reminiscent of Earth-like life.  If so, astrobiology is saved from the challenges of examining things far away, but is instead faced with the difficulties of examining events here long ago (i.e., trading deep space for deep time).  Figure {numref}`{number}<Geologic-Timescales-fig>` illustrates the two versions of geologic timeline along with some events from geologic history.\n",
    "\n",
    "```{figure-md} Geologic-Timescales-fig\n",
    "<img src=\"Geologic_Timescales.png\" alt=\"Geologic Timescales\"  width=\"700px\">\n",
    "\n",
    "(A) The current Precambrian time scale from the International Commission on Stratigraphy, based on [Plumb and James (1986)](https://www.sciencedirect.com/science/article/pii/0301926886900318) and [Plumb (1991)](https://www.sciencedirect.com/science/article/pii/0301926886900318) (and including the 2014/15 revision of the base of the Cryogenian Period to c. 720 Ma); (B) a proposed revised Precambrian time scale using geologic events [(Van Kranendonk et al., 2012)](https://www.sciencedirect.com/science/article/pii/B9780444594259000160). Image Credit: [Strachan et al. (2020)](https://www.sciencedirect.com/science/article/pii/B9780128243602000164).\n",
    "```\n",
    "\n",
    "The origin and early evolutionary history of terrestrial life is poorly known, in addition to poor constraints on the environmental conditions of the early Earth.  There are several reasons for this.\n",
    "\n",
    "1. **Ancient rocks are rare**: Almost all potential information about the first half of Earth's history is contained in geological materials.  Such rocks have been mostly hidden or destroyed by geological processes (e.g., erosion, burial, or subduction).  Some rocks from the early Earth were ejected into space by catastrophic meteorite impacts, of which there were plenty during the first billion years of Earth history.  Both geological or impact mechanisms are viable candidates for the destruction of the earliest crust.\n",
    "2. **Metamorphism and/or deformation damages the information content of rocks**:  Biological signatures are fragile, usually surviving only mild metamorphism and moderate deformation.  On a tectonically active planet, the cumulative probability of deep burial or intense folding steadily increases over time.  Radioactive heating was greater on the Archean Earth (2.5-4 Gyr ago), and tectonic activity may have been more intense, with post-depositional modification of rocks correspondingly more likely.  The effects of shock metamorphism during meteorite impacts could have also been severe, judging by the cratering on the Moon and Mars.  Temperatures above $300\\ {\\rm ^\\circ C}$ are significantly destructive to most chemical biosignatures.  Therefore rare, ancient rocks are even more rare to contain contain astrobiologically important information.\n",
    "   ```{note}\n",
    "    Metamorphism refers to mineralogical changes in rocks due to pressure and heat.  Deposition is the process of laying down a sedimentary layer, while post-depositional processes can later modify this layer in many ways and thus complicate its interpretation. \n",
    "   ```\n",
    "3. **Surviving rocks are located in unfortunate places**:  Many occur on continents where recent environmental conditions have been unfriendly to pristine preservation.  Some rocks are situated where prolonged weathering under subtropical climates has transformed most surface rocks into varieties of soil.  Others have endured glaciation over the past million years which has covered them with [till](https://en.wikipedia.org/wiki/Till), shattered them by frost action, swamped them with lakes, or encouraged the overgrowth lichens and mosses.  Fresh samples are obtained by drilling, but most core boring has occurred where the rocks are unrepresentative (e.g., in the vicinity of mines).  Mines are situated near the anomalous concentration of a particular element.\n",
    "4. **Not all rock were formed in settings likely to yield evidence of life**: Sedimentary rock are the only ones from which paleobiological data can be readily obtained.  For the early Earth, these are commonly [shales](https://en.wikipedia.org/wiki/Shale), [cherts](https://en.wikipedia.org/wiki/Chert), [banded iron formations](https://en.wikipedia.org/wiki/Banded_iron_formation), and [carbonate rocks](https://en.wikipedia.org/wiki/Carbonate_rock). A few other rock types can yield important environmental information and biological relics (in exceptional instances), which include [sandstones](https://en.wikipedia.org/wiki/Sandstone), [evaporites](https://en.wikipedia.org/wiki/Evaporite), [hydrothermal deposits](https://en.wikipedia.org/wiki/Hydrothermal_mineral_deposit), [tuffs](https://en.wikipedia.org/wiki/Tuff), and [hyaloclastites](https://en.wikipedia.org/wiki/Hyaloclastite).  The primordial geological record mainly consists of granites, basalts, and other highly metamorphosed and deformed materials.\n",
    "5. **Very few well-preserved remnants of the early Earth have not *yet* been studied systematically**: The geological features of the rocks and their environments must be understood before paleobiological and paleo-environmental interpretation can be deduced.  Moreover, primordial rocks and relics of early life might well have no modern analogs.  The introduction of younger material into older rocks (i.e., contamination) has plagued Archean paleontology because the opportunities are common during the long and complex geological history of even the best-preserved Archean rock.  Determining whether or not a specimen is of biological origin (i.e., biogenicity) is contentious for many putatively primordial fossils because early organisms are expected to be morphologically simple, chemically unsophisticated, and environmentally benign.  Distinguishing inorganic objects from primitive fossils is difficult.  Very little research has been performed on abiogenic mimics of possible early biosignatures.\n",
    "\n",
    "Because of all these shortcomings, every claimed Archean fossil must be subjected to strict scrutiny, if only because of the extreme improbability of their survival.  Despite these caveats, accessible outcrops of well-preserved Archean rocks for paleobiological and paleo-environmental study still do exist.\n",
    "\n",
    "```{figure-md} Archean-rocks-fig\n",
    "<img src=\"https://ars.els-cdn.com/content/image/1-s2.0-S0301926821004150-gr1.jpg\" alt=\"Archean rocks\"  width=\"600px\">\n",
    "\n",
    "World map showing the distribution of Archean cratons and modern subduction zones. Image Credit: [Sotiriou et al. (2022)](https://www.sciencedirect.com/science/article/pii/S0301926821004150#f0005).\n",
    "```"
   ]
  },
  {
   "cell_type": "markdown",
   "metadata": {},
   "source": [
    "### Types of Evidence\n",
    "#### Microfossils\n",
    "Microfossils are the preserved remains of microbial organisms, which are exclusively organic-walled [prokaryotes](https://en.wikipedia.org/wiki/Prokaryote) on the early Earth. These micron-sized lifeforms are only evident in the second half of Earth's geological record.  The oldest fossil visible to the unaided eye ([*Grypania*](https://en.wikipedia.org/wiki/Grypania)), which is found in a carbonaceous compression that shows a spiral shaped seaweed about $1\\ {\\rm cm}$ across and appeared ${\\sim}1.85\\ {\\rm Ga}$.  The oldest suspected microfossils were found in the [Nuvvuagittuq Supracrustal Belt](https://en.wikipedia.org/wiki/Nuvvuagittuq_Greenstone_Belt) in Qu&eacute;bec and appear in rocks dated to 4.28-3.75 Ga ([Papineau et al. (2022)](https://www.science.org/doi/full/10.1126/sciadv.abm2296)).  Discoveries made in ancient rocks typically carry a great deal of controversy, where the sample for Canada is no exception.\n",
    "\n",
    "````{panels}\n",
    "```{figure-md} Grypania-fig\n",
    "<img src=\"https://upload.wikimedia.org/wikipedia/commons/thumb/a/a3/Grypania_spiralis.JPG/1280px-Grypania_spiralis.JPG\" alt=\"Grypania\"  width=\"600px\">\n",
    "\n",
    "The microfossil *Grypania* from the ${\\sim}2.2$ Ga Negaunee Formation in Michigan, USA. Image Credit: Wikipedia:[Grypania](https://en.wikipedia.org/wiki/Grypania).\n",
    "```\n",
    "---\n",
    "\n",
    "```{figure-md} Eoentophysalis-fig\n",
    "<img src=\"Eoentophysalis.png\" alt=\"Eoentophysalis\"  width=\"600px\">\n",
    "\n",
    "The cyanobacterium *Eoentophysalis* from the ${\\sim}1.9$ Ga Belcher Group, Canada. Scale bar = $20\\ {\\rm \\mu m}$. Image Credit: [Demoulin et al. (2019)](https://www.ncbi.nlm.nih.gov/pmc/articles/PMC6880289/).\n",
    "```\n",
    "````\n",
    "\n",
    "The earlier appearance of microorganisms might also be expected from the overall trend within individual evolutionary lineages towards larger sizes over time.  However, remnants of very small organisms are most prone to destruction by metamorphic and deformational recrystallization.  Microbial fossils are generally only preserved where lithification (entombment in rock) was almost instantaneous upon death, the host sediment is extremely fine in grain size, and the mineralizing material is hostile to microbial activity.  The two main rock types that satisfy these requirements are chert and shale.  \n",
    "\n",
    "- Cherts readily precipitated in evaporative carbonate environments during the Proterozoic and Archean before silica-shelled organisms had evolved and thereby lowered dissolved silica concentrations in the oceans to levels far below saturation.\n",
    "- Shales are widespread in Archean terrains, but are generally recrystallized or sheared along bedding planes to the great detriment of fine-scale fossil preservation.\n",
    "\n",
    "The search for Archean microfossils has been fraught with controversy.  The two key issues that have emerged from the many vigorous debates are those of *biogenicity* (whether a presumed microfossil is actually biogenic) and *syngenicity* (whether a presumed microfossil has an ancient origin).\n",
    "\n",
    "- Biogenicity arises as a problem because of the extreme morphological simplicity of prokaryotic organisms and their likely remains.  Virtually all microbial groups, (except some cyanobacteria), can be categorized as \"balls or sticks\"; either simple spheroids or uncomplicated tubular filaments.  It is very difficult to distinguish true prokaryotic microfossils from the many abiogenic structures that can mimic similar shapes.  The best way of discriminating fossilized simple lifeforms from non-life is to find evidence of past biological behavior that is not explicable in terms of physical or chemical processes (e.g., varying orientations with respect to environmental gradients or indications of reproduction).\n",
    "- Syngenicity arises as a problem becaus of the long and complex geological history even of the best preserved Archean rock.  This provides many potential opportunities for younger biological contaminants to infiltrate.  Contamination can sometimes only be distinguished by features like slightly discordant host rocks, lack of fossil-sediment interaction, or anomalous geochemistry compare to metamorphic grade.\n",
    "\n",
    "```{note}\n",
    "Metamorphic grade is a qualitative measure of the degree of heating and pressure to which a rock has been exposed.  Low-grade means less heat and pressure, while high-grade means more heat and pressure.\n",
    "```\n",
    "\n",
    "The most ancient microfossils that can be confidently assigned to an extant group of organisms are variably pigmented colonies of spheroidal cells showing a distinct division pattern from the Belcher Group of arctic Canada (see Fig. {numref}`{number}<Eoentophysalis-fig>`).  The microfossils are so similar to an current genus of morphologically complex cyanobacteria so that there can be little doubt that the Proterozoic fossils are also cyanobacteria.\n",
    "\n",
    "The only convincing Archean microfossils (found in South Africa) are assemblages of ellipsoids ($0.2-2.5\\ {\\rm \\mu m}$ in diameter), spheroids ($1.5-20\\ {\\rm \\mu m}$ in diameter), tubular filaments ($0.5-3\\ {\\rm \\mu m}$ in diameter), and interwoven mats of tubular filaments ($10-30\\ {\\rm \\mu m}$ in diameter).  They are composed of replacive iron oxides ([kerogen](https://en.wikipedia.org/wiki/Kerogen)) that has similar isotopic values to younger biogenic carbon.  Their complex divisional and matting habits are strongly reminiscent of biological behavior, and their irregular distribution aligned along their sediments' layering indicates contemporaneous deposition.  These objects are clearly syngentic and biogenic, which makes them incontestable Archean microfossils.  All older assemblages are more controversial.\n",
    "\n",
    "The microfossil record leaves us with no certain members of modern microbial lineages before ${\\sim}2.1\\ {\\rm Ga}$ and no certain preserved cells before ${\\sim}2.55\\ {\\rm Ga}$, but plenty of possible and probable microbial remain some older rocks dating back as far as ${\\sim}3.45\\ {\\rm Ga}$.  The record also shows how easy it is to mistake abiogenic artifacts and younger contaminants for genuine Archean microfossils and illustrates that careful geology and converging lines of evidence are needed in order to confident of biogenicity an syngenicity.  In particular, signs of biological behavior and indications of metamorphic grade have proved to be the most powerful tools for distinguishing reliable results from the misleading."
   ]
  },
  {
   "cell_type": "markdown",
   "metadata": {},
   "source": [
    "#### Stromatolites\n",
    "[Stromatolites](https://en.wikipedia.org/wiki/Stromatolite) are laminated sedimentary structures accreted as a result of microbial growth, movement, or metabolism.  They are trace fossils of microbial activity and are thus less direct evidence of life than microfossils.  Their shapes vary, but they often show a predominance of convex-upward [flexures](https://en.wiktionary.org/wiki/flexure) forming domes or columns, although some conical forms show the converse.  \n",
    "\n",
    "Several scales of flexuring and layering give them a complex internal structure, and a pronounced irregularity of flexuring and layering makes them look wrinkly.  If accreted by photosynthetic or otherwise Sun-loving microbes, the layers show thickening flexure crests because the constructing microbes grow more successfully on topographic highs where there is more light.  The constructing microbes accrete sediment by three distinct processes.\n",
    "\n",
    "1. *Trapping* occurs when erect microbial filaments baffle passing water currents, causing [entrained](https://en.wiktionary.org/wiki/entrain) sediment to be deposited, just as a carpet traps dirt.\n",
    "2. *Binding* happens when passively deposited sediment is caught up in and overgrown by a microbial mat, either by lodging in irregularities in the mat or getting stuck in the extracellular mucilage secreted by the microbes.\n",
    "3. *Precipitation* results from microbial photosynthesis removing $\\rm CO_2$ from the surrounding water, causing calcium carbonate to be deposited as the equilibrium of the following reaction is forced towards the right side because of product depletion:\n",
    "\n",
    "```{math}\n",
    ":label: calcium_rxn\n",
    "{\\rm Ca^{2+}} + 2{\\rm HCO_3^-} \\leftrightarrow {\\rm CaCO_3} + {\\rm CO_2\\ (gas)} + {\\rm H_2O}.\n",
    "```\n",
    "\n",
    "There are several classification schemes for stromatolites, with the principal ones being a binomial, quasi-biological taxonomic system like that used for animal trace fossils and a morphological system like that used for sedimentary structures.  Proponents for the\n",
    "\n",
    "- binomial system emphasize its usefulness for biostratigraphy, with characteristic stromatolites classified for various Proterozoic time intervals on several continents.\n",
    "- morphological system emphasize the involvement of inorganic processes in stromatolite construction and thus regard them as better environmental markers than time markers.\n",
    "\n",
    "Disputes have ensued the relative importance of biotic versus sedimentary controls on their structure and even about the definition of the term \"stromatolite.\"  Stromatolites are generally large and obvious structures with a better preservation potential than microfossils.  Before using stromatolites as evidence for early biology, multiple lines of supporting evidence should be sought, preferably including fabric indicative of microbe-sediment interaction.\n",
    "\n",
    "Many assemblages of stromatolites are now known from rocks older than ${\\sim}2.5\\ {\\rm Ga}$.  Those of late Archean age ($<3\\ {\\rm Ga}$) are widely regarded as showing strong evidence of biological activity during their formation (see Fig. {numref}`{number}<stromatolite-fig>`).  As well as the large-scale structural features typical of biogenic accretion, stromatolites can have precipitate-filled gas bubbles produced by metabolic activity, tufted layers formed by gliding filaments congregating on topographic high points, and carpet-like textures of vertically oriented filaments thickening on substrate highs.  As a result, there can be little doubt that these structures were accreted by a community of microbes that responded in some way to sunlight.\n",
    "\n",
    "```{figure-md} stromatolite-fig\n",
    "<img src=\"https://upload.wikimedia.org/wikipedia/commons/thumb/8/8a/Stromatolithe_Pal%C3%A9oarch%C3%A9en_-_MNHT.PAL.2009.10.1.jpg/1280px-Stromatolithe_Pal%C3%A9oarch%C3%A9en_-_MNHT.PAL.2009.10.1.jpg\" alt=\"Stromatolite\"  width=\"600px\">\n",
    "\n",
    "Stromatolites are formed over the years by mats (1-10 mm in thickness) of microorganisms (cynobacteria among others) found in shallow, mainly marine waters. The microorganisms precipitate mineral particles, which makes the mat to thicken, but only the upper part survives. Most stromatolites display characteristically layered structures. Only the layers are visible to the naked eye. Locality: Strelley Pool Chert (SPC) (Pilbara Craton) - Western Australia. Image Credit: Wikipedia:[stromatolite](https://en.wikipedia.org/wiki/Stromatolite).\n",
    "```\n",
    "\n",
    "<div align=\"center\">\n",
    "\n",
    "<iframe width=\"560\" height=\"315\"\n",
    "src=\"https://www.youtube.com/embed/1o9iZvCSCQE\" \n",
    "frameborder=\"0\" \n",
    "allow=\"accelerometer; autoplay; encrypted-media; gyroscope; picture-in-picture\" \n",
    "allowfullscreen></iframe>\n",
    "\n",
    "</div>"
   ]
  },
  {
   "cell_type": "markdown",
   "metadata": {},
   "source": [
    "#### Carbon Isotopes\n",
    "Both the microfossil and stromatolite records of the ARchean are very patchy.  A more continuous record of Archean biology is preserve in a less direct way: in *isotopic chemofossils*, particularly the carbon isotope ratios of sedimentary rocks.  Autotrophic metabolisms that use $\\rm CO_2$ for manufacturing cellular carbon compounds preferentially incorporate the light stable isotope of carbon $\\rm ^{12}C$ over the heavy $\\rm ^{13}C$ into their synthesized organic matter.  Any sedimentary kerogen (iron oxides) derived from such organisms will inherit this isotopic fractionation.\n",
    "\n",
    "Reflecting the biological concentration of $\\rm ^{12}C$, sedimentary carbonate that is deposited from water bodies inhabited by autotrophs will consequently be depleted in $\\rm ^{12}C$, or relatively enriched in $\\rm ^{13}C$.  On Modern Earth, organic carbon has a carbon isotopic value (called $\\rm ^{13}C_{org}$) that averages around -22&permil; (i.e., depleted in $\\rm ^{13}C$ by 22 parts per thousand relative to an arbitrary standard), where carbonate has a $\\rm ^{13}C_{carb}$ of about 0&permil; and the entire Earth is near -6&permil;.\n",
    "\n",
    "Unfortunately, there are some complications to this simple picture.  Fluctuations in the fractionation record might be expected to appear at times when the burial ratio of sedimentary kerogen to carbonate varies or when the mean autotrophic fractionation between organic and inorganic carbon $\\Delta_{\\rm C}$ varies.  It appears that now is a somewhat unusual time in EArth history with very low $\\Delta_{\\rm C}$.  This may have resulted from declining atmospheric $\\rm pCO_2$ associated with the onset and growth of glaciers.  Overall it seems reasonable to assume that a global carbon cycle regulates the available carbon based on autotrophy of both independent microbes and endosymbiotic microbes (e.g., chloroplasts in plants and algae).\n",
    "\n",
    "When extrapolating back to more ancient rocks, one must consider a few complicating factors.\n",
    "\n",
    "1. Older rocks tend to be metamorphosed, which contain a low $\\Delta_{\\rm C}$ that is indistinguishable from non-biologic fractionation.\n",
    "2. $\\rm ^{13}C_{org}$ can shift to heavier values at lower metamorphic grades becaus of loss of light hydrocarbons.\n",
    "3. Isotopically light hydrocarbons can migrate into ancient sedimentary rock and become solidified (i.e., contamination).\n",
    "4. [Metasomatism](https://en.wikipedia.org/wiki/Metasomatism) (i.e., chemical alteration of the rock) and metamorphism can introduce secondary carbonate or graphite into ancient rocks by precipitation from or reaction with migrating fluids rich in dissolved carbonic species.\n",
    "\n",
    "All of these mechanisms are apt to confound the ancient $\\Delta_{\\rm C}$ record, particularly in deformed and metamorphosed terrains.  \n",
    "\n",
    "Overall, the pre-1.0 Ga carbon isotope record is similar to that of more modern times. $\\rm ^{13}C_{carb}$ is generally around 0&permil; and $\\rm ^{13}C_{org}$ is ${\\sim}30$&permil; in low-grade metasedimentary rocks.  Shallow marine carbonates in particular are very close to 0&permil; as far back in time as the undisputed sedimentary record goes.  Organic carbon isotopic values are similarly consistent, though with greater variability about their mean value.  Autotrophic fixation has almost certainly been the predominant process of primary biological productivity on Earth since at least 3.5 Ga.\n",
    "\n",
    "<div align=\"center\">\n",
    "\n",
    "<iframe width=\"560\" height=\"315\"\n",
    "src=\"https://www.youtube.com/embed/uCVnRIP3pIk\" \n",
    "frameborder=\"0\" \n",
    "allow=\"accelerometer; autoplay; encrypted-media; gyroscope; picture-in-picture\" \n",
    "allowfullscreen></iframe>\n",
    "\n",
    "</div>"
   ]
  },
  {
   "cell_type": "markdown",
   "metadata": {},
   "source": [
    "#### Sulfur Isotopes"
   ]
  },
  {
   "cell_type": "markdown",
   "metadata": {},
   "source": [
    "#### Nitrogen Isotopes"
   ]
  },
  {
   "cell_type": "markdown",
   "metadata": {},
   "source": [
    "#### Molecular Biomarkers"
   ]
  },
  {
   "cell_type": "markdown",
   "metadata": {},
   "source": [
    "### The Oldest Evidence of Life"
   ]
  },
  {
   "cell_type": "markdown",
   "metadata": {},
   "source": [
    "#### Physical Characteristics\n",
    "\n",
    "#### Environmental Preferences"
   ]
  },
  {
   "cell_type": "markdown",
   "metadata": {},
   "source": [
    "#### Metabolic Activity"
   ]
  },
  {
   "cell_type": "markdown",
   "metadata": {},
   "source": [
    "#### Phylogenetic Relationships\n",
    "\n"
   ]
  },
  {
   "cell_type": "markdown",
   "metadata": {},
   "source": [
    "### Astrobiological Implications"
   ]
  },
  {
   "cell_type": "markdown",
   "metadata": {},
   "source": [
    "## The Origin and Diversification of Eukaryotes\n",
    "\n",
    "### Microbial Diversity"
   ]
  },
  {
   "cell_type": "markdown",
   "metadata": {},
   "source": [
    "### Molecular Phylogeny"
   ]
  },
  {
   "cell_type": "markdown",
   "metadata": {},
   "source": [
    "### Molecular Ecology"
   ]
  },
  {
   "cell_type": "markdown",
   "metadata": {},
   "source": [
    "### Molecular Studies of Protists\n",
    "\n",
    "#### Multi-gene Studies and the Archezoan Hypothesis"
   ]
  },
  {
   "cell_type": "markdown",
   "metadata": {},
   "source": [
    "#### Evolving Ideas about the Origin of Protists"
   ]
  },
  {
   "cell_type": "markdown",
   "metadata": {},
   "source": [
    "#### Sampling Bias and Other Problems"
   ]
  },
  {
   "cell_type": "markdown",
   "metadata": {},
   "source": [
    "## The Phylogentic Tree and LUCA (Lissauer & de Pater 16.9.2)"
   ]
  },
  {
   "cell_type": "markdown",
   "metadata": {},
   "source": [
    "## Young Earth and Early Life (Lissauer & de Pater 16.9.3)"
   ]
  },
  {
   "cell_type": "markdown",
   "metadata": {},
   "source": [
    "## Development of Complex Life (Lissauer & de Pater 16.10.2)"
   ]
  },
  {
   "cell_type": "markdown",
   "metadata": {},
   "source": [
    "## Intelligence and Technology (Lissauer & de Pater 16.10.3)"
   ]
  }
 ],
 "metadata": {
  "interpreter": {
   "hash": "cd2e115bae0bd8507f53973663b16a6c8b1a6736f2a0b1c5bcd962a446a2698e"
  },
  "kernelspec": {
   "display_name": "Python 3.8.8 64-bit ('base': conda)",
   "name": "python3"
  },
  "language_info": {
   "codemirror_mode": {
    "name": "ipython",
    "version": 3
   },
   "file_extension": ".py",
   "mimetype": "text/x-python",
   "name": "python",
   "nbconvert_exporter": "python",
   "pygments_lexer": "ipython3",
   "version": "3.8.8"
  },
  "orig_nbformat": 4
 },
 "nbformat": 4,
 "nbformat_minor": 2
}
