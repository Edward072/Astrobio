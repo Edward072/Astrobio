{
 "cells": [
  {
   "cell_type": "markdown",
   "metadata": {},
   "source": [
    "# Life and its Requirements\n",
    "\n",
    "## Does 'Life' Have a Definition?\n",
    "The question \"What is life?\" is foundational to biology, but it is especially important to astrobiologists searching for signs of life in the cosmos.  Previous attempts to define *life* have faced serious counterexamples, and may generate as many problems as they solve.  To answer the question \"What is life?\", we require a general theory of the nature of living systems.  In absence of such a theory, we like alchemists during the European Enlightenment trying to define water before the advent of atomic theory.  The best description of water at the time would be to list water's properties:\n",
    "\n",
    "- wet,\n",
    "- transparent,\n",
    "- odorless,\n",
    "- tasteless,\n",
    "- thirst quenching, and \n",
    "- a good solvent.\n",
    "\n",
    "Although, finding water that was odorless and tasteless might have been a struggle for the average 16th century investigator.  No amount of (macroscopic) observational or conceptual analysis  of these features will reveal that water contains two hydrogens and one oxygen ($\\rm H_2O$).  The most scientifically informative answer to the question \"What is water?\" is most definitely $\\rm H_2O$.  In the absence of a good theory of the nature of living systems, the best we can do is to describe its features until we have a more precise intuition."
   ]
  },
  {
   "cell_type": "markdown",
   "metadata": {},
   "source": [
    "### Attempts to Define 'Life'\n",
    "There have been many attempts to define *life* dating back at least to Aristotle, who defined *life* in terms of the capacity to reproduce.  To this day, there is not a broadly accepted definition of *life*, where the scientific literature is filled with suggestions.  Carl Sagan catalogued physiological, metabolic, biochemical, Darwinian (or genetic) and thermodynamic definitions, along with their counterexamples.  All attempts typically face problems, in that they include phenomena that most are reluctant to consider alive, or exclude entities that clearly are alive.  Figure {numref}`{number}<life-defined-fig>` shows a definition, but it actually relies on many definitions to form a complete picture.\n",
    "\n",
    "- A *metabolic* definition could be based on the ability to consume and convert energy in order to move, grow, or reproduce.  But fire might be said to satisfy some or all of these criteria.\n",
    "- A *thermodynamic* definition might describe a living system as one that takes in energy in order to create order locally, but this would include crystals that are not generally considered alive.\n",
    "- A *biochemical* definition would be based on the presence of certain types of biomolecules, yet one must worry that any such choice could in the future face exceptions when the category of favored biomolecules changes.  In that case, once living things would become non-living.\n",
    "- *Genetic* or *Darwinian* definitions are systems that are capable of evolution by natural selection, but these also face drawbacks.  The taming (i.e. altered behavior) of wolves into dogs appears to fit this definition, but a behavior is not considered alive by itself.\n",
    "  \n",
    "```{figure-md} life-defined-fig\n",
    "<img src=\"https://upload.wikimedia.org/wikipedia/commons/1/15/Definition_of_cellular_life_NB.jpg\" alt=\"life defined\"  width=\"600px\">\n",
    "\n",
    "Definition of cellular life according to [Budisa, Kubyshkin, & Schmidt (2020)](https://chemistry-europe.onlinelibrary.wiley.com/doi/10.1002/cbic.202000141).\n",
    "```\n",
    "\n",
    "The philosophical question of the definition of *life* has increasing practical importance, as laboratory experiments approach the synthesis of life, and as greater attention is focused on the search for life within the Solar System and beyond.  Definitions of life are often explicit or implicit in planning remote *in situ* searches for extraterrestrial life.  The design of life-detection experiment that could be performed on Europa or Mars by spacecraft landers depends on decisions about what life is, and what observations will count as evidence of a detection.  \n",
    "\n",
    "#### Viking's Search for Life on Mars\n",
    "The Viking mission's search for life on Mars in the mid-1970s was the first dedicated *in situ* search for extraterrestrial life.  The basic approach was to conduct experiments with the martian soil to test for the presence of metabolizing organisms.  The results of the [labeled release experiment](https://en.wikipedia.org/wiki/Viking_lander_biological_experiments#Labeled_release) (see the LR in Fig. {numref}`{number}<viking-experiments-fig>`) in particular were not unlike what had been expected for the presence of life.  In the end, the Viking biology team's consensus was for a *nonbiological* interpretation, which was strongly influenced by the failure of the Viking gas chromatograph mass spectrometer (GCMS) to find any organic molecules to its limits of detection in the soil with sample heating up to $500\\ {\\rm ^\\circ C}$.\n",
    "\n",
    "```{figure-md} viking-experiments-fig\n",
    "<img src=\"https://upload.wikimedia.org/wikipedia/commons/d/d4/Viking_Biological_package.I.png?20161105202808\" alt=\"Viking experiment\"  width=\"600px\">\n",
    "\n",
    "NASA Viking Lander Biological Experiment Package. Image Credit: Wikipedia:[Viking lander biological experiments](https://en.wikipedia.org/wiki/Viking_lander_biological_experiments)/NASA.\n",
    "```\n",
    "\n",
    "The GCMS was not intended to conduct a \"life-detection\" experiment, but actually did so by implicitly employing a biochemical definition.  The GCMS would not have detected as many as ${\\sim}10^6$ bacterial cells per gram of soil.  It now appears that oxidation of the meteoritic organics on the martian surface may have produced nonvolatile organic compounds that would not have been easily detectable.  The result was psychologically powerful: no (detected) organics, no life.  A lesson learned is that any *in situ* search for extraterrestrial life should employ more than one definition of life so that results can be intercompared.  If there were really *one* correct known definition of *life*, then the extra effort and design would be unnecessary.\n",
    "\n",
    "#### The Darwinian Definition\n",
    "Darwinian (sometimes called *genetic*) definitions of *life* hold that life is a **system capable of evolution by natural selection**.  One popular version is the **chemical Darwinian** definition, where life is a self-sustained chemical system capable of Darwinian evolution.  The notion of Darwinian evolution includes processes of self-reproduction, material continuation over a historical lineage (i.e., gene transfer), genetic variation, and natural selection.  The requirement the system is self-sustained refers to living systems that contain all the genetic information necessary for their own constant production (i.e., metabolism).  The chemical Darwinian definition excludes computer or artificial *life* through its demand that chemical exchanges are responsible for the self-sustaining property.  It also excludes biological viruses by virtue of the self-sustained requirement.\n",
    "\n",
    "Some researchers (e.g., [Dawkins (1983)](https://www.google.com/books/edition/Evolution_From_Molecules_to_Men/KYM4AAAAIAAJ?hl=en&gbpv=0); [Dennett (1995)](https://nyaspubs.onlinelibrary.wiley.com/doi/abs/10.1002/j.2326-1951.1995.tb03633.x)) do not restrict Darwinian evolution to chemical systems, explicitly leaving open the possibility of computer life.  This characterizes Darwinian evolution by how it functions, or how it is more a general process that can be abstracted from any particular physical realization.  In this functionalist view, it is not the computer that is alive but rather the processes themselves.  This is similar to how energy propagates through a medium using waves, where the material at the wave source does not interact directly with the receiver.  The artificial vehicle of the computer has a status no different from that of the artificial glassware that might be used in a laboratory synthesis of organic life.  A computer simulation of cellular biochemistry is a simulation of biochemistry, and not biochemistry itself.  No computer simulation of photosynthesis is actually photosynthesis since it does not yield authentic carbohydrates.  In the functionalist view, the simulation *is* life because life is abstract process independent of any particular physical realization.\n",
    "\n",
    "There are other problems with Darwinian definitions, where it is possible (though not generally favored) that early cellular life on Earth or some other work passed through a period reproduction without DNA-type replication and Darwinian evolution could not yet operate (e.g., [Dyson (1985)](https://www.google.com/books/edition/Origins_of_Life/zulgAAAAMAAJ?hl=en)).  In this hypothesis, protein-based creatures capable of metabolism predated the development of exact replication based on nucleic acids.  If such entities, where discovered on another world, then Darwinian definitions would preclude them from being considered alive.  For more recent details (as of 2016), see [How to build life in a pre-Darwinian world](https://www.quantamagazine.org/how-to-build-life-in-a-pre-darwinian-world-20160216/).\n",
    "\n",
    "A simple objection to the Darwinian definition considers that individual sexually reproducing organisms in our DNA-protein do not themselves evolve and would categorize many living entities in our world are not examples of *life*.  The Darwinian definition refers to a *system* that at least in some cases must contain more than one entity, which would preclude Victor Frankenstein's unique creation from begin consider alive, even though the tale clearly describes a living entity.  A practical drawback to Darwinian definitions is that they depend on how long a system should wait before demonstrating that it is capable of Darwinian evolution.  How do we decide what are the proper conditions for a system to be capable of Darwinian evolution?  "
   ]
  },
  {
   "cell_type": "markdown",
   "metadata": {},
   "source": [
    "### Definitions\n",
    "Definitions are concerned with language and concepts, at least philosophically.  For example, the definition of a \"bachelor\" is an unmarried human male, which explains the meaning of the word by dissecting the concept that we associate with it.  Every definition has two parts: (1) the [definiendum](https://en.wiktionary.org/wiki/definiendum) is the expression being defined and (2) the [definiens](https://en.wiktionary.org/wiki/definiens#English) is the expression doing the defining.\n",
    "\n",
    "#### Varieties of Definition\n",
    "[Lexical definitions](https://en.wikipedia.org/wiki/Lexical_definition) report on the standard meaning of terms in a natural language (e.g., dictionary definitions).  Lexical definitions are in contrast to [stipulative definitions](https://en.wikipedia.org/wiki/Stipulative_definition), which explicitly introduce new meanings for terms.  The stipulative definition from physics for the term 'work' refers to the magnitude of an acting force and the displacement due to its action.  Stipulative definitions are also used to introduce invented terms (e.g., electron or gene).  Unlike lexical definitions, stipulative definitions are arbitrary in the sense that rather than reporting on the existing meanings of terms, they explicitly introduce new meanings.\n",
    "\n",
    "Another type of definition is the [ostensive definition](https://en.wikipedia.org/wiki/Ostensive_definition) that specify the meaning of a term merely by indicating a few prototypical examples within its extension, or the class of all things to which it applies.  An adult who explains the meaning of the word 'dog' to a child by pointing to a dog and saying \"that is a dog\" is providing an ostensive definition.  \n",
    "\n",
    "[Operational definitions](https://en.wikipedia.org/wiki/Operational_definition) are like ostensive definitions, where they explain meanings through representative examples.  Operational definitions do not *directly* indicate examples, but instead specify procedures that can be performed on something to determine whether it falls into an extension of the definiendum.  For example, an acid can be operationally defined as something that turns litmus paper red.  The definiens specifies a procedure that can be used to determine whether an unknown substance is an acid.  Some astrobiologists (e.g., [Chyba & McDonald (1996)](https://scholar.princeton.edu/sites/default/files/cchyba/files/chybamcdonald_areps_1996.pdf)) have called for the use of operational definitions in searches for extraterrestrial life.  The problem with operational definitions is that they do not tell one very much about what the items falling under the definiendum have in common.  The fact that litmus paper turns red when placed in a liquid doesn't tell us much about the nature of acidity, only that a particular liquid is something called acid.\n",
    "\n",
    "The most informative definitions specify the meanings of terms by analyzing concepts and supplying a noncircular synonym for the term begin defined.  In philosophy, such definitions are know as *full* or *complete* definitions.  Philosophers sometimes uses these expressions to designate more fine-grained distinctions, in which the term **ideal definition** is used instead.\n",
    "\n",
    "#### Ideal Definitions\n"
   ]
  },
  {
   "cell_type": "markdown",
   "metadata": {},
   "source": [
    "### Natural Kinds and Theoretical Identity Statements"
   ]
  },
  {
   "cell_type": "markdown",
   "metadata": {},
   "source": [
    "### What is Life?\n",
    "\n",
    "#### Dreams of a General Theory of Life\n",
    "\n",
    "#### How to Search for Extraterrestrial Life"
   ]
  },
  {
   "cell_type": "markdown",
   "metadata": {},
   "source": [
    "## Evolution: a Defining Feature of Life\n",
    "\n",
    "### From Lamarck to Darwin to the Central Dogma\n",
    "\n",
    "### Evolution at the Molecular Level\n",
    "\n",
    "### Mechanisms for Acquiring New Genes\n",
    "\n",
    "### Could There be Life without Evolution?\n",
    "\n",
    "### Evolution and Extraterrestrial Life\n"
   ]
  },
  {
   "cell_type": "markdown",
   "metadata": {},
   "source": [
    "\n",
    "## Planetary Requirements for Life\n",
    "\n",
    "### Biogeochemical Cycles\n",
    "\n",
    "### Gravitational and Magnetic Fields\n",
    "\n",
    "### Can Moonless Planets Host Life?\n",
    "\n",
    "### Giant Planets and Life"
   ]
  },
  {
   "cell_type": "markdown",
   "metadata": {},
   "source": [
    "## How Life Affects Planets"
   ]
  }
 ],
 "metadata": {
  "interpreter": {
   "hash": "cd2e115bae0bd8507f53973663b16a6c8b1a6736f2a0b1c5bcd962a446a2698e"
  },
  "kernelspec": {
   "display_name": "Python 3.8.8 64-bit ('base': conda)",
   "name": "python3"
  },
  "language_info": {
   "codemirror_mode": {
    "name": "ipython",
    "version": 3
   },
   "file_extension": ".py",
   "mimetype": "text/x-python",
   "name": "python",
   "nbconvert_exporter": "python",
   "pygments_lexer": "ipython3",
   "version": "3.8.8"
  },
  "orig_nbformat": 4
 },
 "nbformat": 4,
 "nbformat_minor": 2
}
